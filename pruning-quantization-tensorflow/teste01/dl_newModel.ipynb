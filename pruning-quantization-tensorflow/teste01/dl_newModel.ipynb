{
  "cells": [
    {
      "cell_type": "code",
      "execution_count": 1,
      "metadata": {
        "colab": {
          "base_uri": "https://localhost:8080/"
        },
        "id": "5Q8lqzbTc98R",
        "outputId": "387cebbd-5a80-464f-ebf4-973640f8d559"
      },
      "outputs": [
        {
          "name": "stdout",
          "output_type": "stream",
          "text": [
            "2.7.0\n",
            "1\n",
            "/device:GPU:0\n"
          ]
        }
      ],
      "source": [
        "import tensorflow as tf\n",
        "from tensorflow import keras\n",
        "from tensorflow.keras import layers\n",
        "import numpy as np\n",
        "import matplotlib.pyplot as plt\n",
        "from matplotlib.pyplot import figure\n",
        "import pandas as pd\n",
        "\n",
        "print(tf.__version__)\n",
        "print(len(tf.config.experimental.list_physical_devices('GPU')))\n",
        "device_name = tf.test.gpu_device_name()\n",
        "print(device_name)"
      ]
    },
    {
      "cell_type": "code",
      "execution_count": 2,
      "metadata": {
        "colab": {
          "base_uri": "https://localhost:8080/"
        },
        "id": "v_J7hEAkc98W",
        "outputId": "98ed88aa-bf6f-4a26-8d79-adb6a1e57126"
      },
      "outputs": [],
      "source": [
        "#IMPORTAÇÃO E NORRMALIZAÇÃO\n",
        "(x_train, y_train), (x_test,y_test) = keras.datasets.cifar10.load_data()\n",
        "#x_train = x_train.reshape(-1, 28, 28, 1)\n",
        "#x_test = x_test.reshape(-1, 28, 28, 1)\n",
        "\n",
        "x_train = x_train.astype(float)/255\n",
        "x_test = x_test.astype(float)/255\n",
        "#CRIAR DATASET\n",
        "train_ds = tf.data.Dataset.from_tensor_slices((x_train, y_train)).shuffle(50000).batch(64)\n",
        "test_ds = tf.data.Dataset.from_tensor_slices((x_test, y_test)).batch(64)"
      ]
    },
    {
      "cell_type": "code",
      "execution_count": 3,
      "metadata": {},
      "outputs": [
        {
          "data": {
            "text/plain": [
              "(10000, 32, 32, 3)"
            ]
          },
          "execution_count": 3,
          "metadata": {},
          "output_type": "execute_result"
        }
      ],
      "source": [
        "x_train.shape\n",
        "x_test.shape"
      ]
    },
    {
      "cell_type": "code",
      "execution_count": 4,
      "metadata": {
        "id": "7JY0tvhQc98X"
      },
      "outputs": [],
      "source": [
        "loss_fn = tf.keras.losses.SparseCategoricalCrossentropy(from_logits=False)\n",
        "optimizer = tf.keras.optimizers.SGD(learning_rate=0.1)\n",
        "acc_metric = keras.metrics.SparseCategoricalAccuracy()\n",
        "test_accuracy = tf.keras.metrics.Accuracy()\n",
        "test_loss_fn = tf.keras.losses.SparseCategoricalCrossentropy(from_logits=True)\n",
        "train_accuracy = tf.keras.metrics.Accuracy()"
      ]
    },
    {
      "cell_type": "code",
      "execution_count": 16,
      "metadata": {
        "colab": {
          "base_uri": "https://localhost:8080/"
        },
        "id": "lxIyhmBac98Y",
        "outputId": "e103f353-41b1-4ebc-b0ba-ca88ea457c67"
      },
      "outputs": [
        {
          "name": "stdout",
          "output_type": "stream",
          "text": [
            "Model: \"modelo-0.0\"\n",
            "_________________________________________________________________\n",
            " Layer (type)                Output Shape              Param #   \n",
            "=================================================================\n",
            " conv1 (Conv2D)              (64, 32, 32, 32)          896       \n",
            "                                                                 \n",
            " bn1 (BatchNormalization)    (64, 32, 32, 32)          128       \n",
            "                                                                 \n",
            " conv2 (Conv2D)              (64, 32, 32, 32)          9248      \n",
            "                                                                 \n",
            " bn2 (BatchNormalization)    (64, 32, 32, 32)          128       \n",
            "                                                                 \n",
            " mp1 (MaxPooling2D)          (64, 16, 16, 32)          0         \n",
            "                                                                 \n",
            " dropout_4 (Dropout)         (64, 16, 16, 32)          0         \n",
            "                                                                 \n",
            " conv3 (Conv2D)              (64, 16, 16, 64)          18496     \n",
            "                                                                 \n",
            " bn3 (BatchNormalization)    (64, 16, 16, 64)          256       \n",
            "                                                                 \n",
            " conv4 (Conv2D)              (64, 16, 16, 64)          36928     \n",
            "                                                                 \n",
            " bn4 (BatchNormalization)    (64, 16, 16, 64)          256       \n",
            "                                                                 \n",
            " mp2 (MaxPooling2D)          (64, 8, 8, 64)            0         \n",
            "                                                                 \n",
            " dropout_5 (Dropout)         (64, 8, 8, 64)            0         \n",
            "                                                                 \n",
            " conv5 (Conv2D)              (64, 8, 8, 128)           73856     \n",
            "                                                                 \n",
            " bn5 (BatchNormalization)    (64, 8, 8, 128)           512       \n",
            "                                                                 \n",
            " conv6 (Conv2D)              (64, 8, 8, 128)           147584    \n",
            "                                                                 \n",
            " bn6 (BatchNormalization)    (64, 8, 8, 128)           512       \n",
            "                                                                 \n",
            " mp3 (MaxPooling2D)          (64, 4, 4, 128)           0         \n",
            "                                                                 \n",
            " dropout_6 (Dropout)         (64, 4, 4, 128)           0         \n",
            "                                                                 \n",
            " flatten (Flatten)           (64, 2048)                0         \n",
            "                                                                 \n",
            " dense3 (Dense)              (64, 1024)                2098176   \n",
            "                                                                 \n",
            " bn9 (BatchNormalization)    (64, 1024)                4096      \n",
            "                                                                 \n",
            " dropout_7 (Dropout)         (64, 1024)                0         \n",
            "                                                                 \n",
            " dense4 (Dense)              (64, 10)                  10250     \n",
            "                                                                 \n",
            "=================================================================\n",
            "Total params: 2,401,322\n",
            "Trainable params: 2,398,378\n",
            "Non-trainable params: 2,944\n",
            "_________________________________________________________________\n"
          ]
        }
      ],
      "source": [
        "model = keras.Sequential(\n",
        "    [\n",
        "        keras.layers.InputLayer(input_shape=(32, 32,3),batch_size=64),\n",
        "     \n",
        "        keras.layers.Conv2D(32, (3, 3), name=\"conv1\", activation='relu',padding='same'),\n",
        "        keras.layers.BatchNormalization(name=\"bn1\"),  \n",
        "        keras.layers.Conv2D(32, (3, 3),name=\"conv2\", activation='relu', padding='same'),\n",
        "        keras.layers.BatchNormalization(name=\"bn2\"),\n",
        "        keras.layers.MaxPooling2D(pool_size=(2, 2),name=\"mp1\"),\n",
        "        keras.layers.Dropout(0.2),\n",
        "        keras.layers.Conv2D(64, (3, 3),name=\"conv3\", activation='relu', padding='same'),\n",
        "        keras.layers.BatchNormalization(name=\"bn3\"),\n",
        "        keras.layers.Conv2D(64, (3, 3),name=\"conv4\", activation='relu', padding='same'),\n",
        "        keras.layers.BatchNormalization(name=\"bn4\"),\n",
        "        keras.layers.MaxPooling2D(pool_size=(2, 2),name=\"mp2\"),\n",
        "        keras.layers.Dropout(0.3),\n",
        "        keras.layers.Conv2D(128, (3, 3),name=\"conv5\", activation='relu', padding='same'),\n",
        "        keras.layers.BatchNormalization(name=\"bn5\"),\n",
        "        keras.layers.Conv2D(128, (3, 3),name=\"conv6\", activation='relu', padding='same'),\n",
        "        keras.layers.BatchNormalization(name=\"bn6\"),\n",
        "        keras.layers.MaxPooling2D(pool_size=(2, 2),name=\"mp3\"),\n",
        "        keras.layers.Dropout(0.4),\n",
        "     \n",
        "        keras.layers.Flatten(name = \"flatten\"),\n",
        "        #keras.layers.Dropout(0.2, name=\"dp1\"),\n",
        "        #keras.layers.Dense(512, name=\"dense1\", activation='relu'),\n",
        "        #keras.layers.BatchNormalization(name=\"bn7\"),\n",
        "        #keras.layers.Dropout(0.4),\n",
        "        #keras.layers.Dense(256, name=\"dense2\", activation='relu'),\n",
        "        #keras.layers.BatchNormalization(name=\"bn8\"),\n",
        "        #keras.layers.Dropout(0.2),\n",
        "        keras.layers.Dense(1024, name=\"dense3\", activation='relu'),\n",
        "        keras.layers.BatchNormalization(name=\"bn9\"),\n",
        "        keras.layers.Dropout(0.5),\n",
        "        keras.layers.Dense(10, name=\"dense4\", activation='softmax')\n",
        "    ],\n",
        "    name=\"modelo-0.0\",\n",
        ")\n",
        "\n",
        "for layer in model.trainable_variables:\n",
        "    #print(layer.name)\n",
        "    if 'bias' in layer.name:\n",
        "        new_bias = tf.cast(tf.where(tf.abs(layer) >= 0, 0.1, 0.1), tf.float32)\n",
        "        layer.assign(new_bias)\n",
        "\n",
        "model.summary()"
      ]
    },
    {
      "cell_type": "code",
      "execution_count": 18,
      "metadata": {
        "colab": {
          "base_uri": "https://localhost:8080/"
        },
        "id": "lNxvzk3pc98Z",
        "outputId": "ad823622-926d-4976-b25d-31e6484382d7"
      },
      "outputs": [
        {
          "name": "stdout",
          "output_type": "stream",
          "text": [
            "Created Tensor of velocity\n",
            "Epoch 1/150 \t Loss = 2.729 \t Train Acc = 34.387% \t Sparsity = 0.000% \t Test Loss = 10.307 \tTest Acc = 55.105%\n",
            "New test accuracy is 55.105%, Model saved\n",
            "WARNING:tensorflow:Compiled the loaded model, but the compiled metrics have yet to be built. `model.compile_metrics` will be empty until you train or evaluate the model.\n",
            "Epoch 2/150 \t Loss = 2.217 \t Train Acc = 41.050% \t Sparsity = 0.000% \t Test Loss = 1.657 \tTest Acc = 43.530%\n",
            "Epoch 3/150 \t Loss = 1.662 \t Train Acc = 48.218% \t Sparsity = 0.000% \t Test Loss = 1.311 \tTest Acc = 53.390%\n",
            "Epoch 4/150 \t Loss = 1.269 \t Train Acc = 56.130% \t Sparsity = 0.000% \t Test Loss = 1.049 \tTest Acc = 62.840%\n",
            "New test accuracy is 62.840%, Model saved\n",
            "WARNING:tensorflow:Compiled the loaded model, but the compiled metrics have yet to be built. `model.compile_metrics` will be empty until you train or evaluate the model.\n",
            "Epoch 5/150 \t Loss = 1.117 \t Train Acc = 60.462% \t Sparsity = 0.000% \t Test Loss = 0.930 \tTest Acc = 67.520%\n",
            "New test accuracy is 67.520%, Model saved\n",
            "WARNING:tensorflow:Compiled the loaded model, but the compiled metrics have yet to be built. `model.compile_metrics` will be empty until you train or evaluate the model.\n",
            "Epoch 6/150 \t Loss = 1.019 \t Train Acc = 63.628% \t Sparsity = 0.000% \t Test Loss = 0.922 \tTest Acc = 67.260%\n",
            "Epoch 7/150 \t Loss = 0.949 \t Train Acc = 66.444% \t Sparsity = 0.000% \t Test Loss = 0.821 \tTest Acc = 71.200%\n",
            "New test accuracy is 71.200%, Model saved\n",
            "WARNING:tensorflow:Compiled the loaded model, but the compiled metrics have yet to be built. `model.compile_metrics` will be empty until you train or evaluate the model.\n",
            "Epoch 8/150 \t Loss = 0.891 \t Train Acc = 68.216% \t Sparsity = 0.000% \t Test Loss = 0.795 \tTest Acc = 72.170%\n",
            "New test accuracy is 72.170%, Model saved\n",
            "WARNING:tensorflow:Compiled the loaded model, but the compiled metrics have yet to be built. `model.compile_metrics` will be empty until you train or evaluate the model.\n",
            "Epoch 9/150 \t Loss = 0.840 \t Train Acc = 70.340% \t Sparsity = 0.000% \t Test Loss = 0.755 \tTest Acc = 73.910%\n",
            "New test accuracy is 73.910%, Model saved\n",
            "WARNING:tensorflow:Compiled the loaded model, but the compiled metrics have yet to be built. `model.compile_metrics` will be empty until you train or evaluate the model.\n",
            "Epoch 10/150 \t Loss = 0.800 \t Train Acc = 71.618% \t Sparsity = 0.000% \t Test Loss = 0.732 \tTest Acc = 74.560%\n",
            "New test accuracy is 74.560%, Model saved\n",
            "WARNING:tensorflow:Compiled the loaded model, but the compiled metrics have yet to be built. `model.compile_metrics` will be empty until you train or evaluate the model.\n",
            "Epoch 11/150 \t Loss = 0.770 \t Train Acc = 72.832% \t Sparsity = 0.000% \t Test Loss = 0.706 \tTest Acc = 75.170%\n",
            "New test accuracy is 75.170%, Model saved\n",
            "WARNING:tensorflow:Compiled the loaded model, but the compiled metrics have yet to be built. `model.compile_metrics` will be empty until you train or evaluate the model.\n",
            "Epoch 12/150 \t Loss = 0.740 \t Train Acc = 73.950% \t Sparsity = 0.000% \t Test Loss = 0.658 \tTest Acc = 77.240%\n",
            "New test accuracy is 77.240%, Model saved\n",
            "WARNING:tensorflow:Compiled the loaded model, but the compiled metrics have yet to be built. `model.compile_metrics` will be empty until you train or evaluate the model.\n",
            "Epoch 13/150 \t Loss = 0.710 \t Train Acc = 75.112% \t Sparsity = 0.000% \t Test Loss = 0.665 \tTest Acc = 76.760%\n",
            "Epoch 14/150 \t Loss = 0.680 \t Train Acc = 76.026% \t Sparsity = 0.000% \t Test Loss = 0.673 \tTest Acc = 76.720%\n",
            "Epoch 15/150 \t Loss = 0.661 \t Train Acc = 76.662% \t Sparsity = 0.000% \t Test Loss = 0.632 \tTest Acc = 78.260%\n",
            "New test accuracy is 78.260%, Model saved\n",
            "WARNING:tensorflow:Compiled the loaded model, but the compiled metrics have yet to be built. `model.compile_metrics` will be empty until you train or evaluate the model.\n",
            "Epoch 16/150 \t Loss = 0.642 \t Train Acc = 77.474% \t Sparsity = 0.000% \t Test Loss = 0.621 \tTest Acc = 78.310%\n",
            "New test accuracy is 78.310%, Model saved\n",
            "WARNING:tensorflow:Compiled the loaded model, but the compiled metrics have yet to be built. `model.compile_metrics` will be empty until you train or evaluate the model.\n",
            "Epoch 17/150 \t Loss = 0.621 \t Train Acc = 78.198% \t Sparsity = 0.000% \t Test Loss = 1.075 \tTest Acc = 79.580%\n",
            "New test accuracy is 79.580%, Model saved\n",
            "WARNING:tensorflow:Compiled the loaded model, but the compiled metrics have yet to be built. `model.compile_metrics` will be empty until you train or evaluate the model.\n",
            "Epoch 18/150 \t Loss = 0.600 \t Train Acc = 78.892% \t Sparsity = 0.000% \t Test Loss = 0.606 \tTest Acc = 78.850%\n",
            "Epoch 19/150 \t Loss = 0.588 \t Train Acc = 79.302% \t Sparsity = 0.000% \t Test Loss = 0.575 \tTest Acc = 80.330%\n",
            "New test accuracy is 80.330%, Model saved\n",
            "WARNING:tensorflow:Compiled the loaded model, but the compiled metrics have yet to be built. `model.compile_metrics` will be empty until you train or evaluate the model.\n",
            "Epoch 20/150 \t Loss = 0.571 \t Train Acc = 79.866% \t Sparsity = 0.000% \t Test Loss = 0.597 \tTest Acc = 79.660%\n",
            "Epoch 21/150 \t Loss = 0.566 \t Train Acc = 79.832% \t Sparsity = 0.000% \t Test Loss = 0.601 \tTest Acc = 79.650%\n",
            "Epoch 22/150 \t Loss = 0.550 \t Train Acc = 80.624% \t Sparsity = 0.000% \t Test Loss = 0.561 \tTest Acc = 81.030%\n",
            "New test accuracy is 81.030%, Model saved\n",
            "WARNING:tensorflow:Compiled the loaded model, but the compiled metrics have yet to be built. `model.compile_metrics` will be empty until you train or evaluate the model.\n",
            "Epoch 23/150 \t Loss = 0.530 \t Train Acc = 81.274% \t Sparsity = 0.000% \t Test Loss = 0.555 \tTest Acc = 81.050%\n",
            "New test accuracy is 81.050%, Model saved\n",
            "WARNING:tensorflow:Compiled the loaded model, but the compiled metrics have yet to be built. `model.compile_metrics` will be empty until you train or evaluate the model.\n",
            "Epoch 24/150 \t Loss = 0.521 \t Train Acc = 81.468% \t Sparsity = 0.000% \t Test Loss = 0.709 \tTest Acc = 77.190%\n",
            "Epoch 25/150 \t Loss = 0.510 \t Train Acc = 81.906% \t Sparsity = 0.000% \t Test Loss = 0.570 \tTest Acc = 80.820%\n",
            "Epoch 26/150 \t Loss = 0.493 \t Train Acc = 82.646% \t Sparsity = 0.000% \t Test Loss = 0.582 \tTest Acc = 80.740%\n",
            "Epoch 27/150 \t Loss = 0.487 \t Train Acc = 82.566% \t Sparsity = 0.000% \t Test Loss = 0.547 \tTest Acc = 81.430%\n",
            "New test accuracy is 81.430%, Model saved\n",
            "WARNING:tensorflow:Compiled the loaded model, but the compiled metrics have yet to be built. `model.compile_metrics` will be empty until you train or evaluate the model.\n",
            "Epoch 28/150 \t Loss = 0.474 \t Train Acc = 83.240% \t Sparsity = 0.000% \t Test Loss = 0.574 \tTest Acc = 80.620%\n",
            "Epoch 29/150 \t Loss = 0.464 \t Train Acc = 83.588% \t Sparsity = 0.000% \t Test Loss = 0.518 \tTest Acc = 82.580%\n",
            "New test accuracy is 82.580%, Model saved\n",
            "WARNING:tensorflow:Compiled the loaded model, but the compiled metrics have yet to be built. `model.compile_metrics` will be empty until you train or evaluate the model.\n",
            "Epoch 30/150 \t Loss = 0.456 \t Train Acc = 83.652% \t Sparsity = 0.000% \t Test Loss = 0.516 \tTest Acc = 82.790%\n",
            "New test accuracy is 82.790%, Model saved\n",
            "WARNING:tensorflow:Compiled the loaded model, but the compiled metrics have yet to be built. `model.compile_metrics` will be empty until you train or evaluate the model.\n",
            "Epoch 31/150 \t Loss = 0.452 \t Train Acc = 84.112% \t Sparsity = 0.000% \t Test Loss = 0.559 \tTest Acc = 81.330%\n",
            "Epoch 32/150 \t Loss = 0.438 \t Train Acc = 84.608% \t Sparsity = 0.000% \t Test Loss = 0.531 \tTest Acc = 82.100%\n",
            "Epoch 33/150 \t Loss = 0.422 \t Train Acc = 84.890% \t Sparsity = 0.000% \t Test Loss = 0.495 \tTest Acc = 83.400%\n",
            "New test accuracy is 83.400%, Model saved\n",
            "WARNING:tensorflow:Compiled the loaded model, but the compiled metrics have yet to be built. `model.compile_metrics` will be empty until you train or evaluate the model.\n",
            "Epoch 34/150 \t Loss = 0.414 \t Train Acc = 85.296% \t Sparsity = 0.000% \t Test Loss = 0.508 \tTest Acc = 82.940%\n",
            "Epoch 35/150 \t Loss = 0.401 \t Train Acc = 85.674% \t Sparsity = 0.000% \t Test Loss = 0.498 \tTest Acc = 83.320%\n",
            "Epoch 36/150 \t Loss = 0.401 \t Train Acc = 85.722% \t Sparsity = 0.000% \t Test Loss = 0.509 \tTest Acc = 83.160%\n",
            "Epoch 37/150 \t Loss = 0.395 \t Train Acc = 85.954% \t Sparsity = 0.000% \t Test Loss = 0.618 \tTest Acc = 83.690%\n",
            "New test accuracy is 83.690%, Model saved\n",
            "WARNING:tensorflow:Compiled the loaded model, but the compiled metrics have yet to be built. `model.compile_metrics` will be empty until you train or evaluate the model.\n",
            "Epoch 38/150 \t Loss = 0.382 \t Train Acc = 86.430% \t Sparsity = 0.000% \t Test Loss = 0.512 \tTest Acc = 83.030%\n",
            "Epoch 39/150 \t Loss = 0.384 \t Train Acc = 86.450% \t Sparsity = 0.000% \t Test Loss = 0.543 \tTest Acc = 82.390%\n",
            "Epoch 40/150 \t Loss = 0.380 \t Train Acc = 86.414% \t Sparsity = 0.000% \t Test Loss = 0.550 \tTest Acc = 82.950%\n",
            "Epoch 41/150 \t Loss = 0.363 \t Train Acc = 87.112% \t Sparsity = 0.000% \t Test Loss = 0.521 \tTest Acc = 83.090%\n",
            "Epoch 42/150 \t Loss = 0.362 \t Train Acc = 87.002% \t Sparsity = 0.000% \t Test Loss = 0.520 \tTest Acc = 82.990%\n",
            "Epoch 43/150 \t Loss = 0.355 \t Train Acc = 87.358% \t Sparsity = 0.000% \t Test Loss = 0.520 \tTest Acc = 83.500%\n",
            "Epoch 44/150 \t Loss = 0.347 \t Train Acc = 87.560% \t Sparsity = 0.000% \t Test Loss = 0.498 \tTest Acc = 84.140%\n",
            "New test accuracy is 84.140%, Model saved\n",
            "WARNING:tensorflow:Compiled the loaded model, but the compiled metrics have yet to be built. `model.compile_metrics` will be empty until you train or evaluate the model.\n",
            "Epoch 45/150 \t Loss = 0.341 \t Train Acc = 87.802% \t Sparsity = 0.000% \t Test Loss = 0.500 \tTest Acc = 83.910%\n",
            "Epoch 46/150 \t Loss = 0.341 \t Train Acc = 87.772% \t Sparsity = 0.000% \t Test Loss = 0.498 \tTest Acc = 83.700%\n",
            "Epoch 47/150 \t Loss = 0.331 \t Train Acc = 88.174% \t Sparsity = 0.000% \t Test Loss = 0.480 \tTest Acc = 84.120%\n",
            "Epoch 48/150 \t Loss = 0.332 \t Train Acc = 88.222% \t Sparsity = 0.000% \t Test Loss = 0.498 \tTest Acc = 83.900%\n",
            "Epoch 49/150 \t Loss = 0.320 \t Train Acc = 88.328% \t Sparsity = 0.000% \t Test Loss = 0.491 \tTest Acc = 83.990%\n",
            "Epoch 50/150 \t Loss = 0.314 \t Train Acc = 88.718% \t Sparsity = 0.000% \t Test Loss = 0.557 \tTest Acc = 83.570%\n",
            "Epoch 51/150 \t Loss = 0.310 \t Train Acc = 88.890% \t Sparsity = 0.000% \t Test Loss = 0.494 \tTest Acc = 84.350%\n",
            "New test accuracy is 84.350%, Model saved\n",
            "WARNING:tensorflow:Compiled the loaded model, but the compiled metrics have yet to be built. `model.compile_metrics` will be empty until you train or evaluate the model.\n",
            "Epoch 52/150 \t Loss = 0.309 \t Train Acc = 88.890% \t Sparsity = 0.000% \t Test Loss = 0.493 \tTest Acc = 84.310%\n",
            "Epoch 53/150 \t Loss = 0.304 \t Train Acc = 89.276% \t Sparsity = 0.000% \t Test Loss = 0.495 \tTest Acc = 84.170%\n",
            "Epoch 54/150 \t Loss = 0.298 \t Train Acc = 89.444% \t Sparsity = 0.000% \t Test Loss = 0.498 \tTest Acc = 84.250%\n",
            "Epoch 55/150 \t Loss = 0.294 \t Train Acc = 89.520% \t Sparsity = 0.000% \t Test Loss = 0.480 \tTest Acc = 84.340%\n",
            "Epoch 56/150 \t Loss = 0.297 \t Train Acc = 89.360% \t Sparsity = 0.000% \t Test Loss = 0.500 \tTest Acc = 83.840%\n",
            "Epoch 57/150 \t Loss = 0.283 \t Train Acc = 89.860% \t Sparsity = 0.000% \t Test Loss = 0.495 \tTest Acc = 84.610%\n",
            "New test accuracy is 84.610%, Model saved\n",
            "WARNING:tensorflow:Compiled the loaded model, but the compiled metrics have yet to be built. `model.compile_metrics` will be empty until you train or evaluate the model.\n",
            "Epoch 58/150 \t Loss = 0.278 \t Train Acc = 89.978% \t Sparsity = 0.000% \t Test Loss = 0.563 \tTest Acc = 84.590%\n",
            "Epoch 59/150 \t Loss = 0.283 \t Train Acc = 89.878% \t Sparsity = 0.000% \t Test Loss = 0.494 \tTest Acc = 84.700%\n",
            "New test accuracy is 84.700%, Model saved\n",
            "WARNING:tensorflow:Compiled the loaded model, but the compiled metrics have yet to be built. `model.compile_metrics` will be empty until you train or evaluate the model.\n",
            "Epoch 60/150 \t Loss = 0.274 \t Train Acc = 90.142% \t Sparsity = 0.000% \t Test Loss = 0.528 \tTest Acc = 84.470%\n",
            "Epoch 61/150 \t Loss = 0.275 \t Train Acc = 90.204% \t Sparsity = 0.000% \t Test Loss = 0.502 \tTest Acc = 83.830%\n",
            "Epoch 62/150 \t Loss = 0.287 \t Train Acc = 89.748% \t Sparsity = 0.000% \t Test Loss = 0.471 \tTest Acc = 84.740%\n",
            "New test accuracy is 84.740%, Model saved\n",
            "WARNING:tensorflow:Compiled the loaded model, but the compiled metrics have yet to be built. `model.compile_metrics` will be empty until you train or evaluate the model.\n",
            "Epoch 63/150 \t Loss = 0.263 \t Train Acc = 90.570% \t Sparsity = 0.000% \t Test Loss = 0.494 \tTest Acc = 84.830%\n",
            "New test accuracy is 84.830%, Model saved\n",
            "WARNING:tensorflow:Compiled the loaded model, but the compiled metrics have yet to be built. `model.compile_metrics` will be empty until you train or evaluate the model.\n",
            "Epoch 64/150 \t Loss = 0.260 \t Train Acc = 90.594% \t Sparsity = 0.000% \t Test Loss = 0.474 \tTest Acc = 85.240%\n",
            "New test accuracy is 85.240%, Model saved\n",
            "WARNING:tensorflow:Compiled the loaded model, but the compiled metrics have yet to be built. `model.compile_metrics` will be empty until you train or evaluate the model.\n",
            "Epoch 65/150 \t Loss = 0.254 \t Train Acc = 90.742% \t Sparsity = 0.000% \t Test Loss = 0.502 \tTest Acc = 84.860%\n",
            "Epoch 66/150 \t Loss = 0.244 \t Train Acc = 91.202% \t Sparsity = 0.000% \t Test Loss = 0.491 \tTest Acc = 84.900%\n",
            "Epoch 67/150 \t Loss = 0.254 \t Train Acc = 90.922% \t Sparsity = 0.000% \t Test Loss = 0.503 \tTest Acc = 84.610%\n",
            "Epoch 68/150 \t Loss = 0.245 \t Train Acc = 91.200% \t Sparsity = 0.000% \t Test Loss = 0.514 \tTest Acc = 84.410%\n",
            "Epoch 69/150 \t Loss = 0.239 \t Train Acc = 91.386% \t Sparsity = 0.000% \t Test Loss = 0.497 \tTest Acc = 84.960%\n",
            "Epoch 70/150 \t Loss = 0.244 \t Train Acc = 91.260% \t Sparsity = 0.000% \t Test Loss = 0.488 \tTest Acc = 84.990%\n",
            "Epoch 71/150 \t Loss = 0.234 \t Train Acc = 91.724% \t Sparsity = 0.000% \t Test Loss = 0.490 \tTest Acc = 85.050%\n",
            "Epoch 72/150 \t Loss = 0.234 \t Train Acc = 91.514% \t Sparsity = 0.000% \t Test Loss = 0.507 \tTest Acc = 85.160%\n",
            "Epoch 73/150 \t Loss = 0.234 \t Train Acc = 91.616% \t Sparsity = 0.000% \t Test Loss = 0.489 \tTest Acc = 84.740%\n",
            "Epoch 74/150 \t Loss = 0.235 \t Train Acc = 91.626% \t Sparsity = 0.000% \t Test Loss = 0.509 \tTest Acc = 85.260%\n",
            "New test accuracy is 85.260%, Model saved\n",
            "WARNING:tensorflow:Compiled the loaded model, but the compiled metrics have yet to be built. `model.compile_metrics` will be empty until you train or evaluate the model.\n",
            "Epoch 75/150 \t Loss = 0.227 \t Train Acc = 91.926% \t Sparsity = 0.000% \t Test Loss = 0.492 \tTest Acc = 85.160%\n",
            "Epoch 76/150 \t Loss = 0.217 \t Train Acc = 92.162% \t Sparsity = 0.000% \t Test Loss = 0.498 \tTest Acc = 85.180%\n",
            "Epoch 77/150 \t Loss = 0.220 \t Train Acc = 92.206% \t Sparsity = 0.000% \t Test Loss = 0.487 \tTest Acc = 85.210%\n",
            "Epoch 78/150 \t Loss = 0.217 \t Train Acc = 92.186% \t Sparsity = 0.000% \t Test Loss = 0.484 \tTest Acc = 85.090%\n",
            "Epoch 79/150 \t Loss = 0.219 \t Train Acc = 92.026% \t Sparsity = 0.000% \t Test Loss = 0.485 \tTest Acc = 85.410%\n",
            "New test accuracy is 85.410%, Model saved\n",
            "WARNING:tensorflow:Compiled the loaded model, but the compiled metrics have yet to be built. `model.compile_metrics` will be empty until you train or evaluate the model.\n",
            "Epoch 80/150 \t Loss = 0.212 \t Train Acc = 92.356% \t Sparsity = 0.000% \t Test Loss = 0.513 \tTest Acc = 84.980%\n",
            "Epoch 81/150 \t Loss = 0.211 \t Train Acc = 92.344% \t Sparsity = 0.000% \t Test Loss = 0.490 \tTest Acc = 85.150%\n",
            "Epoch 82/150 \t Loss = 0.211 \t Train Acc = 92.384% \t Sparsity = 0.000% \t Test Loss = 0.490 \tTest Acc = 85.300%\n",
            "Epoch 83/150 \t Loss = 0.206 \t Train Acc = 92.570% \t Sparsity = 0.000% \t Test Loss = 0.477 \tTest Acc = 85.640%\n",
            "New test accuracy is 85.640%, Model saved\n",
            "WARNING:tensorflow:Compiled the loaded model, but the compiled metrics have yet to be built. `model.compile_metrics` will be empty until you train or evaluate the model.\n",
            "Epoch 84/150 \t Loss = 0.205 \t Train Acc = 92.632% \t Sparsity = 0.000% \t Test Loss = 0.505 \tTest Acc = 84.880%\n",
            "Epoch 85/150 \t Loss = 0.205 \t Train Acc = 92.616% \t Sparsity = 0.000% \t Test Loss = 0.514 \tTest Acc = 84.760%\n",
            "Epoch 86/150 \t Loss = 0.201 \t Train Acc = 92.834% \t Sparsity = 0.000% \t Test Loss = 0.490 \tTest Acc = 85.600%\n",
            "Epoch 87/150 \t Loss = 0.202 \t Train Acc = 92.866% \t Sparsity = 0.000% \t Test Loss = 0.484 \tTest Acc = 85.470%\n",
            "Epoch 88/150 \t Loss = 0.193 \t Train Acc = 93.114% \t Sparsity = 0.000% \t Test Loss = 0.505 \tTest Acc = 85.390%\n",
            "Epoch 89/150 \t Loss = 0.197 \t Train Acc = 93.040% \t Sparsity = 0.000% \t Test Loss = 0.512 \tTest Acc = 84.920%\n",
            "Epoch 90/150 \t Loss = 0.197 \t Train Acc = 93.028% \t Sparsity = 0.000% \t Test Loss = 0.502 \tTest Acc = 85.360%\n",
            "Epoch 91/150 \t Loss = 0.190 \t Train Acc = 93.272% \t Sparsity = 0.000% \t Test Loss = 0.515 \tTest Acc = 85.290%\n",
            "Epoch 92/150 \t Loss = 0.188 \t Train Acc = 93.150% \t Sparsity = 0.000% \t Test Loss = 0.520 \tTest Acc = 85.000%\n",
            "Epoch 93/150 \t Loss = 0.190 \t Train Acc = 93.248% \t Sparsity = 0.000% \t Test Loss = 0.483 \tTest Acc = 85.810%\n",
            "New test accuracy is 85.810%, Model saved\n",
            "WARNING:tensorflow:Compiled the loaded model, but the compiled metrics have yet to be built. `model.compile_metrics` will be empty until you train or evaluate the model.\n",
            "Epoch 94/150 \t Loss = 0.186 \t Train Acc = 93.338% \t Sparsity = 0.000% \t Test Loss = 0.515 \tTest Acc = 85.270%\n",
            "Epoch 95/150 \t Loss = 0.186 \t Train Acc = 93.330% \t Sparsity = 0.000% \t Test Loss = 0.519 \tTest Acc = 85.440%\n",
            "Epoch 96/150 \t Loss = 0.187 \t Train Acc = 93.316% \t Sparsity = 0.000% \t Test Loss = 0.501 \tTest Acc = 85.210%\n",
            "Epoch 97/150 \t Loss = 0.188 \t Train Acc = 93.300% \t Sparsity = 0.000% \t Test Loss = 0.499 \tTest Acc = 85.510%\n",
            "Epoch 98/150 \t Loss = 0.182 \t Train Acc = 93.618% \t Sparsity = 0.000% \t Test Loss = 0.505 \tTest Acc = 85.270%\n",
            "Epoch 99/150 \t Loss = 0.186 \t Train Acc = 93.326% \t Sparsity = 0.000% \t Test Loss = 0.484 \tTest Acc = 85.660%\n",
            "Epoch 100/150 \t Loss = 0.180 \t Train Acc = 93.544% \t Sparsity = 0.000% \t Test Loss = 0.508 \tTest Acc = 85.630%\n",
            "Epoch 101/150 \t Loss = 0.176 \t Train Acc = 93.728% \t Sparsity = 0.000% \t Test Loss = 0.492 \tTest Acc = 85.850%\n",
            "New test accuracy is 85.850%, Model saved\n",
            "WARNING:tensorflow:Compiled the loaded model, but the compiled metrics have yet to be built. `model.compile_metrics` will be empty until you train or evaluate the model.\n",
            "Epoch 102/150 \t Loss = 0.173 \t Train Acc = 93.868% \t Sparsity = 0.000% \t Test Loss = 0.500 \tTest Acc = 85.750%\n",
            "Epoch 103/150 \t Loss = 0.170 \t Train Acc = 93.904% \t Sparsity = 0.000% \t Test Loss = 0.498 \tTest Acc = 85.710%\n",
            "Epoch 104/150 \t Loss = 0.172 \t Train Acc = 93.934% \t Sparsity = 0.000% \t Test Loss = 0.497 \tTest Acc = 85.750%\n",
            "Epoch 105/150 \t Loss = 0.176 \t Train Acc = 93.772% \t Sparsity = 0.000% \t Test Loss = 0.526 \tTest Acc = 85.130%\n",
            "Epoch 106/150 \t Loss = 0.167 \t Train Acc = 94.062% \t Sparsity = 0.000% \t Test Loss = 0.500 \tTest Acc = 85.600%\n",
            "Epoch 107/150 \t Loss = 0.173 \t Train Acc = 94.000% \t Sparsity = 0.000% \t Test Loss = 0.491 \tTest Acc = 85.760%\n",
            "Epoch 108/150 \t Loss = 0.165 \t Train Acc = 94.058% \t Sparsity = 0.000% \t Test Loss = 0.504 \tTest Acc = 85.450%\n",
            "Epoch 109/150 \t Loss = 0.168 \t Train Acc = 93.950% \t Sparsity = 0.000% \t Test Loss = 0.524 \tTest Acc = 85.150%\n",
            "Epoch 110/150 \t Loss = 0.169 \t Train Acc = 93.908% \t Sparsity = 0.000% \t Test Loss = 0.514 \tTest Acc = 85.800%\n",
            "Epoch 111/150 \t Loss = 0.165 \t Train Acc = 94.146% \t Sparsity = 0.000% \t Test Loss = 0.516 \tTest Acc = 85.450%\n",
            "Epoch 112/150 \t Loss = 0.158 \t Train Acc = 94.320% \t Sparsity = 0.000% \t Test Loss = 0.525 \tTest Acc = 85.110%\n",
            "Epoch 113/150 \t Loss = 0.167 \t Train Acc = 94.086% \t Sparsity = 0.000% \t Test Loss = 0.489 \tTest Acc = 86.380%\n",
            "New test accuracy is 86.380%, Model saved\n",
            "WARNING:tensorflow:Compiled the loaded model, but the compiled metrics have yet to be built. `model.compile_metrics` will be empty until you train or evaluate the model.\n",
            "Epoch 114/150 \t Loss = 0.161 \t Train Acc = 94.336% \t Sparsity = 0.000% \t Test Loss = 0.516 \tTest Acc = 85.520%\n",
            "Epoch 115/150 \t Loss = 0.160 \t Train Acc = 94.350% \t Sparsity = 0.000% \t Test Loss = 0.496 \tTest Acc = 85.670%\n",
            "Epoch 116/150 \t Loss = 0.156 \t Train Acc = 94.420% \t Sparsity = 0.000% \t Test Loss = 0.506 \tTest Acc = 86.150%\n",
            "Epoch 117/150 \t Loss = 0.153 \t Train Acc = 94.492% \t Sparsity = 0.000% \t Test Loss = 0.554 \tTest Acc = 85.170%\n",
            "Epoch 118/150 \t Loss = 0.154 \t Train Acc = 94.582% \t Sparsity = 0.000% \t Test Loss = 0.539 \tTest Acc = 85.620%\n",
            "Epoch 119/150 \t Loss = 0.150 \t Train Acc = 94.610% \t Sparsity = 0.000% \t Test Loss = 0.511 \tTest Acc = 85.760%\n",
            "Epoch 120/150 \t Loss = 0.151 \t Train Acc = 94.652% \t Sparsity = 0.000% \t Test Loss = 0.518 \tTest Acc = 85.970%\n",
            "Epoch 121/150 \t Loss = 0.154 \t Train Acc = 94.498% \t Sparsity = 0.000% \t Test Loss = 0.510 \tTest Acc = 85.860%\n",
            "Epoch 122/150 \t Loss = 0.150 \t Train Acc = 94.642% \t Sparsity = 0.000% \t Test Loss = 0.509 \tTest Acc = 85.680%\n",
            "Epoch 123/150 \t Loss = 0.145 \t Train Acc = 94.886% \t Sparsity = 0.000% \t Test Loss = 0.508 \tTest Acc = 85.740%\n",
            "Epoch 124/150 \t Loss = 0.149 \t Train Acc = 94.692% \t Sparsity = 0.000% \t Test Loss = 0.500 \tTest Acc = 85.620%\n",
            "Epoch 125/150 \t Loss = 0.142 \t Train Acc = 94.926% \t Sparsity = 0.000% \t Test Loss = 0.520 \tTest Acc = 85.700%\n",
            "Epoch 126/150 \t Loss = 0.142 \t Train Acc = 94.842% \t Sparsity = 0.000% \t Test Loss = 0.505 \tTest Acc = 85.900%\n",
            "Epoch 127/150 \t Loss = 0.147 \t Train Acc = 94.744% \t Sparsity = 0.000% \t Test Loss = 0.510 \tTest Acc = 86.220%\n",
            "Epoch 128/150 \t Loss = 0.145 \t Train Acc = 94.760% \t Sparsity = 0.000% \t Test Loss = 0.517 \tTest Acc = 85.770%\n",
            "Epoch 129/150 \t Loss = 0.141 \t Train Acc = 95.014% \t Sparsity = 0.000% \t Test Loss = 0.531 \tTest Acc = 85.760%\n",
            "Epoch 130/150 \t Loss = 0.139 \t Train Acc = 95.010% \t Sparsity = 0.000% \t Test Loss = 0.538 \tTest Acc = 86.010%\n",
            "Epoch 131/150 \t Loss = 0.144 \t Train Acc = 94.956% \t Sparsity = 0.000% \t Test Loss = 0.514 \tTest Acc = 86.510%\n",
            "New test accuracy is 86.510%, Model saved\n",
            "WARNING:tensorflow:Compiled the loaded model, but the compiled metrics have yet to be built. `model.compile_metrics` will be empty until you train or evaluate the model.\n",
            "Epoch 132/150 \t Loss = 0.142 \t Train Acc = 94.908% \t Sparsity = 0.000% \t Test Loss = 0.526 \tTest Acc = 85.790%\n",
            "Epoch 133/150 \t Loss = 0.139 \t Train Acc = 95.068% \t Sparsity = 0.000% \t Test Loss = 0.528 \tTest Acc = 85.510%\n",
            "Epoch 134/150 \t Loss = 0.139 \t Train Acc = 94.994% \t Sparsity = 0.000% \t Test Loss = 0.755 \tTest Acc = 85.850%\n",
            "Epoch 135/150 \t Loss = 0.138 \t Train Acc = 95.034% \t Sparsity = 0.000% \t Test Loss = 0.512 \tTest Acc = 85.870%\n",
            "Epoch 136/150 \t Loss = 0.139 \t Train Acc = 95.126% \t Sparsity = 0.000% \t Test Loss = 0.513 \tTest Acc = 85.800%\n",
            "Epoch 137/150 \t Loss = 0.138 \t Train Acc = 95.078% \t Sparsity = 0.000% \t Test Loss = 0.503 \tTest Acc = 86.090%\n",
            "Epoch 138/150 \t Loss = 0.136 \t Train Acc = 95.188% \t Sparsity = 0.000% \t Test Loss = 0.505 \tTest Acc = 86.080%\n",
            "Epoch 139/150 \t Loss = 0.135 \t Train Acc = 95.208% \t Sparsity = 0.000% \t Test Loss = 0.535 \tTest Acc = 86.160%\n",
            "Epoch 140/150 \t Loss = 0.136 \t Train Acc = 95.230% \t Sparsity = 0.000% \t Test Loss = 0.505 \tTest Acc = 86.090%\n",
            "Epoch 141/150 \t Loss = 0.135 \t Train Acc = 95.208% \t Sparsity = 0.000% \t Test Loss = 0.515 \tTest Acc = 85.830%\n",
            "Epoch 142/150 \t Loss = 0.133 \t Train Acc = 95.190% \t Sparsity = 0.000% \t Test Loss = 0.524 \tTest Acc = 85.850%\n",
            "Epoch 143/150 \t Loss = 0.131 \t Train Acc = 95.300% \t Sparsity = 0.000% \t Test Loss = 0.504 \tTest Acc = 86.720%\n",
            "New test accuracy is 86.720%, Model saved\n",
            "WARNING:tensorflow:Compiled the loaded model, but the compiled metrics have yet to be built. `model.compile_metrics` will be empty until you train or evaluate the model.\n",
            "Epoch 144/150 \t Loss = 0.128 \t Train Acc = 95.332% \t Sparsity = 0.000% \t Test Loss = 0.507 \tTest Acc = 86.140%\n",
            "Epoch 145/150 \t Loss = 0.125 \t Train Acc = 95.520% \t Sparsity = 0.000% \t Test Loss = 0.536 \tTest Acc = 85.550%\n",
            "Epoch 146/150 \t Loss = 0.125 \t Train Acc = 95.620% \t Sparsity = 0.000% \t Test Loss = 0.533 \tTest Acc = 86.180%\n",
            "Epoch 147/150 \t Loss = 0.125 \t Train Acc = 95.604% \t Sparsity = 0.000% \t Test Loss = 0.508 \tTest Acc = 86.130%\n",
            "Epoch 148/150 \t Loss = 0.131 \t Train Acc = 95.408% \t Sparsity = 0.000% \t Test Loss = 0.562 \tTest Acc = 85.430%\n",
            "Epoch 149/150 \t Loss = 0.126 \t Train Acc = 95.612% \t Sparsity = 0.000% \t Test Loss = 0.533 \tTest Acc = 86.010%\n",
            "Epoch 150/150 \t Loss = 0.126 \t Train Acc = 95.580% \t Sparsity = 0.000% \t Test Loss = 0.526 \tTest Acc = 86.090%\n"
          ]
        }
      ],
      "source": [
        "epochs = 150\n",
        "alpha = 0\n",
        "n_bits = 16\n",
        "\n",
        "learning_rate = 0.015\n",
        "momentum = 0.9\n",
        "\n",
        "np.set_printoptions(threshold=np.inf)\n",
        "\n",
        "model_sparsity = np.array([])\n",
        "model_train_loss = np.array([])\n",
        "model_train_acc = np.array([])\n",
        "model_test_loss = np.array([])\n",
        "model_test_acc = np.array([])\n",
        "sparsity = 0\n",
        "\n",
        "last_test_acc = 0\n",
        "model_name = \"test_01.h5\"\n",
        "\n",
        "\n",
        "with tf.device('/device:GPU:0'):\n",
        "    #TODO: Quantizition of gammas and betas of batch_normalization layer\n",
        "    for epoch in range(epochs):\n",
        "        # Iterate over the batches of the dataset.\n",
        "        loss_batch = np.array([])\n",
        "        loss_test_batch = np.array([])\n",
        "        for step, (x_batch_train, y_batch_train) in enumerate(train_ds):\n",
        "            n_zeros = 0\n",
        "            size = 0\n",
        "            #pruning\n",
        "            if alpha > 0:\n",
        "                bk = []\n",
        "                for layer_weights in model.trainable_variables:\n",
        "                    if 'bn' in layer_weights.name:\n",
        "                        bk.append(-1)\n",
        "                    else:\n",
        "                        #flatten weights\n",
        "                        f_weights = tf.reshape(layer_weights,[-1])\n",
        "                        #get standard deviation of each layer\n",
        "                        lim = alpha*tf.math.reduce_std(f_weights)\n",
        "                        bk.append(lim)\n",
        "                        #create a mask\n",
        "                        mask = tf.cast(tf.where(tf.abs(layer_weights)>lim,1,0), tf.float32)\n",
        "                        #assign pruned weights to the layer\n",
        "                        layer_weights.assign(tf.math.multiply(layer_weights,mask))\n",
        "                        #check sparsity\n",
        "                        flat_array = np.array((tf.reshape(mask,[-1])))\n",
        "                        n_zeros += np.count_nonzero(np.array(flat_array) == 0)\n",
        "                        size += flat_array.shape[0]\n",
        "                        sparsity = n_zeros*100/size\n",
        "            else:\n",
        "                bk = [0] * len(model.trainable_weights)\n",
        "\n",
        "            #Cópia do modelo\n",
        "            if n_bits > 0 and alpha > 0:\n",
        "                model_copy = keras.models.clone_model(model)\n",
        "                model_copy.set_weights(model.get_weights())\n",
        "        \n",
        "            #Quantização\n",
        "            if n_bits > 0:\n",
        "                for i, layer_weights in enumerate(model.trainable_variables):\n",
        "                    if 'bn' in layer_weights.name:\n",
        "                        pass\n",
        "                    else:\n",
        "                        qk_line = (tf.reduce_max(tf.math.abs(layer_weights)) - bk[i]) / (2 ** (n_bits - 1) - 1)\n",
        "                        ck = tf.math.round(layer_weights / qk_line) * qk_line\n",
        "                        layer_weights.assign(ck)\n",
        "\n",
        "            with tf.GradientTape() as tape:\n",
        "                pred = model(x_batch_train, training=True)\n",
        "                loss = loss_fn(y_batch_train, pred)\n",
        "          \n",
        "            grads = tape.gradient(loss, model.trainable_weights)\n",
        "            if step==0 and epoch==0:\n",
        "                print(\"Created Tensor of velocity\")\n",
        "                v = np.zeros_like(grads)\n",
        "            if n_bits > 0 and alpha > 0:\n",
        "                for i, (layer_weights, copied_weights) in enumerate(zip(model.trainable_variables, model_copy.trainable_variables)):\n",
        "                    #TODO: Add momentum and velocity\n",
        "                    grads[i] = grads[i] * learning_rate\n",
        "                    #Get value of velocity\n",
        "                    v[i] = tf.math.subtract(momentum*v[i], grads[i])\n",
        "                    # WEIGHT UPDATE\n",
        "                    layer_weights.assign(tf.math.add(copied_weights, v[i]))\n",
        "            else:\n",
        "                for i, layer_weights in enumerate(model.trainable_variables):\n",
        "                    \n",
        "                    grads[i] = grads[i] * learning_rate\n",
        "                    v[i] = tf.math.subtract(momentum*v[i], grads[i])\n",
        "                    #WEIGHT UPDATE\n",
        "                    layer_weights.assign(tf.math.add(layer_weights, v[i]))\n",
        "            predictions = tf.argmax(pred, axis=1, output_type=tf.int32)\n",
        "            train_accuracy.update_state(y_batch_train,predictions)\n",
        "\n",
        "            #predictions = tf.argmax(pred, axis=1, output_type=tf.int32)\n",
        "            #acc = train_accuracy(y_batch_train, predictions)\n",
        "\n",
        "        #keep track of loss by batch\n",
        "            loss_batch = np.append(loss_batch, loss)\n",
        "        acc = train_accuracy.result()\n",
        "\n",
        "        #reset states\n",
        "        train_accuracy.reset_states()\n",
        "        #mean of loss by epoch\n",
        "        model_train_loss = np.append(model_train_loss, np.mean(loss_batch))\n",
        "        #train accuracy by epoch\n",
        "        model_train_acc = np.append(model_train_acc, acc*100)\n",
        "        #sparsity by epoch\n",
        "        model_sparsity = np.append(model_sparsity, sparsity)\n",
        "\n",
        "        if alpha > 0:\n",
        "            bk = []\n",
        "            for layer_weights in model.trainable_variables:\n",
        "                if 'bn' in layer_weights.name:\n",
        "                    bk.append(-1)\n",
        "                else:\n",
        "                    #flatten weights\n",
        "                    f_weights = tf.reshape(layer_weights,[-1])\n",
        "                    #get standard deviation of each layer\n",
        "                    lim = alpha*tf.math.reduce_std(f_weights)\n",
        "                    bk.append(lim)\n",
        "                    #create a mask\n",
        "                    mask = tf.cast(tf.where(tf.abs(layer_weights)>lim,1,0), tf.float32)\n",
        "                    #assign pruned weights to the layer\n",
        "                    layer_weights.assign(tf.math.multiply(layer_weights,mask))\n",
        "                    #check sparsity\n",
        "                    flat_array = np.array((tf.reshape(mask,[-1])))\n",
        "                    n_zeros += np.count_nonzero(np.array(flat_array) == 0)\n",
        "                    size += flat_array.shape[0]\n",
        "                    sparsity = n_zeros*100/size\n",
        "        else:\n",
        "            bk = [0] * len(model.trainable_weights)\n",
        "\n",
        "        #Quantização\n",
        "        if n_bits > 0:\n",
        "                for i, layer_weights in enumerate(model.trainable_variables):\n",
        "                    if 'bn' in layer_weights.name:\n",
        "                        pass\n",
        "                    else:\n",
        "                        qk_line = (tf.reduce_max(tf.math.abs(layer_weights)) - bk[i]) / (2 ** (n_bits - 1) - 1)\n",
        "                        ck = tf.math.round(layer_weights / qk_line) * qk_line\n",
        "                        layer_weights.assign(ck)\n",
        "      \n",
        "        #bk.clear()\n",
        "        \n",
        "        #Test\n",
        "        acc_val = np.array([])\n",
        "        for step, (x_batch_test, y_batch_test) in enumerate(test_ds):\n",
        "            test_pred = model(x_batch_test, training=False)\n",
        "            test_loss = loss_fn(y_batch_test,test_pred)\n",
        "            test_prediction = tf.argmax(test_pred, axis=1, output_type=tf.int32)\n",
        "            #test_acc = test_accuracy(y_batch_test, test_prediction)\n",
        "                \n",
        "            #acc_val = np.append(acc_val,float(test_acc))\n",
        "\n",
        "            loss_test_batch = np.append(loss_test_batch,test_loss)\n",
        "            test_accuracy.update_state(y_batch_test,test_prediction)\n",
        "\n",
        "        test_acc = test_accuracy.result()\n",
        "        test_accuracy.reset_states()\n",
        "\n",
        "        model_test_acc = np.append(model_test_acc, test_acc*100)\n",
        "        model_test_loss = np.append(model_test_loss,np.mean(loss_test_batch))\n",
        "        \n",
        "        print(\"Epoch {}/{} \\t Loss = {:.3f} \\t Train Acc = {:.3f}% \\t Sparsity = {:.3f}% \\t Test Loss = {:.3f} \\tTest Acc = {:.3f}%\".format(epoch+1,epochs,float(np.mean(loss_batch)),float(acc*100),sparsity, float(np.mean(loss_test_batch)),float(test_acc*100)))\n",
        "\n",
        "        if last_test_acc < test_acc:\n",
        "            print('New test accuracy is {:.3f}%, Model saved'.format(test_acc*100))\n",
        "            last_test_acc = test_acc\n",
        "            model.save(model_name)\n",
        "\n",
        "\n",
        "\n",
        "data = {'train accuracy': model_train_acc, 'test accuracy': model_test_acc, 'sparsity': model_sparsity, 'train loss': model_train_loss, 'test loss': model_test_loss}\n",
        "\n",
        "df = pd.DataFrame(data)\n",
        "\n",
        "df.to_csv('test_01.csv')\n"
      ]
    },
    {
      "cell_type": "code",
      "execution_count": null,
      "metadata": {
        "id": "qH9TwrMnc98a"
      },
      "outputs": [],
      "source": [
        "for (i,layer) in enumerate(model.trainable_weights):\n",
        "        if 'bn' in layer.name or 'bias' in layer.name:\n",
        "            pass\n",
        "        else:\n",
        "            print(layer.name)\n",
        "            a = tf.reshape(layer,[-1])\n",
        "            b = a.numpy()\n",
        "            \n",
        "            plt.axvline(x=-bk[i],color='r')\n",
        "            plt.hist(b,100)\n",
        "            \n",
        "            plt.axvline(x=bk[i],color='r')\n",
        "            plt.text(bk[i], 600, 'bk')\n",
        "            plt.text(-bk[i], 600, '-bk')\n",
        "            #plt.ylim([0,100])\n",
        "            plt.show()"
      ]
    },
    {
      "cell_type": "code",
      "execution_count": 19,
      "metadata": {},
      "outputs": [],
      "source": [
        "import pandas as pd\n",
        "\n",
        "data = {'train accuracy': model_train_acc, 'test accuracy': model_test_acc, 'sparsity': model_sparsity, 'train loss': model_train_loss, 'test loss': model_test_loss}\n",
        "\n",
        "df = pd.DataFrame(data)\n",
        "\n",
        "df.to_csv('test_01.csv')"
      ]
    },
    {
      "cell_type": "code",
      "execution_count": 21,
      "metadata": {
        "id": "5eo_wg9tc98b"
      },
      "outputs": [
        {
          "data": {
            "image/png": "[encoded data removed]",
            "text/plain": [
              "<Figure size 432x288 with 1 Axes>"
            ]
          },
          "metadata": {
            "needs_background": "light"
          },
          "output_type": "display_data"
        }
      ],
      "source": [
        "plt.title(\"test acc x train acc\")\n",
        "plt.plot(model_train_acc)\n",
        "plt.plot(model_test_acc)\n",
        "plt.show()"
      ]
    },
    {
      "cell_type": "code",
      "execution_count": 22,
      "metadata": {
        "id": "RaQc5JNFc98c"
      },
      "outputs": [
        {
          "data": {
            "image/png": "[encoded data removed]",
            "text/plain": [
              "<Figure size 432x288 with 1 Axes>"
            ]
          },
          "metadata": {
            "needs_background": "light"
          },
          "output_type": "display_data"
        }
      ],
      "source": [
        "plt.title(\"train loss x test loss\")\n",
        "plt.plot(model_train_loss)\n",
        "plt.plot(model_test_loss)\n",
        "plt.show()"
      ]
    },
    {
      "cell_type": "code",
      "execution_count": 23,
      "metadata": {
        "id": "ioeGU-jjc98c"
      },
      "outputs": [
        {
          "data": {
            "image/png": "[encoded data removed]",
            "text/plain": [
              "<Figure size 432x288 with 1 Axes>"
            ]
          },
          "metadata": {
            "needs_background": "light"
          },
          "output_type": "display_data"
        }
      ],
      "source": [
        "plt.title(\"Sparsity\")\n",
        "plt.plot(model_sparsity)\n",
        "plt.show()"
      ]
    },
    {
      "cell_type": "code",
      "execution_count": 24,
      "metadata": {},
      "outputs": [
        {
          "name": "stdout",
          "output_type": "stream",
          "text": [
            "WARNING:tensorflow:No training configuration found in the save file, so the model was *not* compiled. Compile it manually.\n"
          ]
        }
      ],
      "source": [
        "model = keras.models.load_model('test_01.h5')"
      ]
    },
    {
      "cell_type": "code",
      "execution_count": 25,
      "metadata": {},
      "outputs": [
        {
          "data": {
            "image/png": "[encoded data removed]",
            "text/plain": [
              "<Figure size 432x288 with 1 Axes>"
            ]
          },
          "metadata": {
            "needs_background": "light"
          },
          "output_type": "display_data"
        },
        {
          "data": {
            "image/png": "[encoded data removed]",
            "text/plain": [
              "<Figure size 432x288 with 1 Axes>"
            ]
          },
          "metadata": {
            "needs_background": "light"
          },
          "output_type": "display_data"
        }
      ],
      "source": [
        "for layer in model.layers:\n",
        "    if layer.name == 'conv4':\n",
        "        a = tf.reshape(layer.weights[0],[-1])\n",
        "        b = a.numpy()\n",
        "        plt.hist(b,200)\n",
        "        plt.show()\n",
        "\n",
        "        plt.hist(b,200)\n",
        "        plt.ylim((0,150))\n",
        "        plt.show()\n",
        "\n",
        "        "
      ]
    },
    {
      "cell_type": "code",
      "execution_count": 26,
      "metadata": {
        "id": "oSh5m9tTc98d"
      },
      "outputs": [],
      "source": [
        "%matplotlib inline\n",
        "from sklearn.metrics import confusion_matrix\n",
        "import itertools\n",
        "import matplotlib.pyplot as plt\n",
        "\n",
        "def plot_confusion_matrix(cm, classes,\n",
        "                        normalize=False,\n",
        "                        title='Confusion matrix',\n",
        "                        cmap=plt.cm.Blues):\n",
        "    \"\"\"\n",
        "    This function prints and plots the confusion matrix.\n",
        "    Normalization can be applied by setting `normalize=True`.\n",
        "    \"\"\"\n",
        "    figure(figsize=(10, 7), dpi=80)\n",
        "    plt.imshow(cm, interpolation='nearest', cmap=cmap)\n",
        "    plt.title(title)\n",
        "    plt.colorbar()\n",
        "    tick_marks = np.arange(10)\n",
        "    plt.xticks(tick_marks, classes, rotation=45)\n",
        "    plt.yticks(tick_marks, classes)\n",
        "\n",
        "    if normalize:\n",
        "        cm = cm.astype('float') / cm.sum(axis=1)[:, np.newaxis]\n",
        "        print(\"Normalized confusion matrix\")\n",
        "    else:\n",
        "        print('Confusion matrix, without normalization')\n",
        "\n",
        "    #print(cm[:,0])\n",
        "\n",
        "    thresh = cm.max() / 2.\n",
        "    for i, j in itertools.product(range(cm.shape[0]), range(cm.shape[1])):\n",
        "        plt.text(j, i, str(cm[i, j]*100/1000) + \"%\",\n",
        "            horizontalalignment=\"center\",\n",
        "            color=\"white\" if cm[i, j] > thresh else \"black\")\n",
        "\n",
        "    plt.tight_layout()\n",
        "    plt.ylabel('Classe real')\n",
        "    plt.xlabel('Classe predita')"
      ]
    },
    {
      "cell_type": "code",
      "execution_count": 27,
      "metadata": {
        "id": "Qwd39wm-c98e"
      },
      "outputs": [
        {
          "name": "stdout",
          "output_type": "stream",
          "text": [
            "Test set accuracy: 86.720%\n"
          ]
        }
      ],
      "source": [
        "with tf.device('/device:CPU:0'):\n",
        "    test_accuracy = tf.keras.metrics.Accuracy()\n",
        "    logits = model(x_test, training=False)\n",
        "    prediction = tf.argmax(logits, axis=1, output_type=tf.int32)\n",
        "    test_accuracy(prediction, y_test)\n",
        "    print(\"Test set accuracy: {:.3%}\".format(test_accuracy.result()))"
      ]
    },
    {
      "cell_type": "code",
      "execution_count": 28,
      "metadata": {
        "id": "BeB7WM_Xc98f"
      },
      "outputs": [
        {
          "name": "stdout",
          "output_type": "stream",
          "text": [
            "Confusion matrix, without normalization\n"
          ]
        },
        {
          "data": {
            "image/png": "[encoded data removed]",
            "text/plain": [
              "<Figure size 800x560 with 2 Axes>"
            ]
          },
          "metadata": {
            "needs_background": "light"
          },
          "output_type": "display_data"
        }
      ],
      "source": [
        "classes = [\"avião\",\"carro\",\"pássaro\",\"gato\",\"veado\",\"cachorro\",\"sapo\",\"cavalo\",\"navio\",\"caminhão\"]\n",
        "cm = confusion_matrix(y_true=y_test, y_pred=prediction)\n",
        "plot_confusion_matrix(cm=cm, classes=classes, title='Matriz de confusão')"
      ]
    },
    {
      "cell_type": "code",
      "execution_count": null,
      "metadata": {
        "id": "SkAsvvxbhb9S"
      },
      "outputs": [],
      "source": []
    }
  ],
  "metadata": {
    "accelerator": "GPU",
    "colab": {
      "collapsed_sections": [],
      "name": "dl_newModel.ipynb",
      "provenance": []
    },
    "kernelspec": {
      "display_name": "Python 3",
      "language": "python",
      "name": "python3"
    },
    "language_info": {
      "codemirror_mode": {
        "name": "ipython",
        "version": 3
      },
      "file_extension": ".py",
      "mimetype": "text/x-python",
      "name": "python",
      "nbconvert_exporter": "python",
      "pygments_lexer": "ipython3",
      "version": "3.7.9"
    }
  },
  "nbformat": 4,
  "nbformat_minor": 0
}
