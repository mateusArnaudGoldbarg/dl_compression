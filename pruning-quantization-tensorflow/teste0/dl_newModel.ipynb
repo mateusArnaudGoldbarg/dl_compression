{
  "cells": [
    {
      "cell_type": "code",
      "execution_count": 1,
      "metadata": {
        "colab": {
          "base_uri": "https://localhost:8080/"
        },
        "id": "5Q8lqzbTc98R",
        "outputId": "387cebbd-5a80-464f-ebf4-973640f8d559"
      },
      "outputs": [
        {
          "name": "stdout",
          "output_type": "stream",
          "text": [
            "2.7.0\n",
            "1\n",
            "/device:GPU:0\n"
          ]
        }
      ],
      "source": [
        "import tensorflow as tf\n",
        "from tensorflow import keras\n",
        "from tensorflow.keras import layers\n",
        "import numpy as np\n",
        "import matplotlib.pyplot as plt\n",
        "from matplotlib.pyplot import figure\n",
        "import pandas as pd\n",
        "\n",
        "print(tf.__version__)\n",
        "print(len(tf.config.experimental.list_physical_devices('GPU')))\n",
        "device_name = tf.test.gpu_device_name()\n",
        "print(device_name)"
      ]
    },
    {
      "cell_type": "code",
      "execution_count": 2,
      "metadata": {
        "colab": {
          "base_uri": "https://localhost:8080/"
        },
        "id": "v_J7hEAkc98W",
        "outputId": "98ed88aa-bf6f-4a26-8d79-adb6a1e57126"
      },
      "outputs": [],
      "source": [
        "#IMPORTAÇÃO E NORRMALIZAÇÃO\n",
        "(x_train, y_train), (x_test,y_test) = keras.datasets.cifar10.load_data()\n",
        "#x_train = x_train.reshape(-1, 28, 28, 1)\n",
        "#x_test = x_test.reshape(-1, 28, 28, 1)\n",
        "\n",
        "x_train = x_train.astype(float)/255\n",
        "x_test = x_test.astype(float)/255\n",
        "#CRIAR DATASET\n",
        "train_ds = tf.data.Dataset.from_tensor_slices((x_train, y_train)).shuffle(50000).batch(64)\n",
        "test_ds = tf.data.Dataset.from_tensor_slices((x_test, y_test)).batch(64)"
      ]
    },
    {
      "cell_type": "code",
      "execution_count": 3,
      "metadata": {},
      "outputs": [
        {
          "data": {
            "text/plain": [
              "(10000, 32, 32, 3)"
            ]
          },
          "execution_count": 3,
          "metadata": {},
          "output_type": "execute_result"
        }
      ],
      "source": [
        "x_train.shape\n",
        "x_test.shape"
      ]
    },
    {
      "cell_type": "code",
      "execution_count": 4,
      "metadata": {
        "id": "7JY0tvhQc98X"
      },
      "outputs": [],
      "source": [
        "loss_fn = tf.keras.losses.SparseCategoricalCrossentropy(from_logits=False)\n",
        "optimizer = tf.keras.optimizers.SGD(learning_rate=0.1)\n",
        "acc_metric = keras.metrics.SparseCategoricalAccuracy()\n",
        "test_accuracy = tf.keras.metrics.Accuracy()\n",
        "test_loss_fn = tf.keras.losses.SparseCategoricalCrossentropy(from_logits=True)\n",
        "train_accuracy = tf.keras.metrics.Accuracy()"
      ]
    },
    {
      "cell_type": "code",
      "execution_count": 5,
      "metadata": {
        "colab": {
          "base_uri": "https://localhost:8080/"
        },
        "id": "lxIyhmBac98Y",
        "outputId": "e103f353-41b1-4ebc-b0ba-ca88ea457c67"
      },
      "outputs": [
        {
          "name": "stdout",
          "output_type": "stream",
          "text": [
            "Model: \"modelo-0.0\"\n",
            "_________________________________________________________________\n",
            " Layer (type)                Output Shape              Param #   \n",
            "=================================================================\n",
            " conv1 (Conv2D)              (64, 32, 32, 32)          896       \n",
            "                                                                 \n",
            " bn1 (BatchNormalization)    (64, 32, 32, 32)          128       \n",
            "                                                                 \n",
            " conv2 (Conv2D)              (64, 32, 32, 32)          9248      \n",
            "                                                                 \n",
            " bn2 (BatchNormalization)    (64, 32, 32, 32)          128       \n",
            "                                                                 \n",
            " mp1 (MaxPooling2D)          (64, 16, 16, 32)          0         \n",
            "                                                                 \n",
            " dropout (Dropout)           (64, 16, 16, 32)          0         \n",
            "                                                                 \n",
            " conv3 (Conv2D)              (64, 16, 16, 64)          18496     \n",
            "                                                                 \n",
            " bn3 (BatchNormalization)    (64, 16, 16, 64)          256       \n",
            "                                                                 \n",
            " conv4 (Conv2D)              (64, 16, 16, 64)          36928     \n",
            "                                                                 \n",
            " bn4 (BatchNormalization)    (64, 16, 16, 64)          256       \n",
            "                                                                 \n",
            " mp2 (MaxPooling2D)          (64, 8, 8, 64)            0         \n",
            "                                                                 \n",
            " dropout_1 (Dropout)         (64, 8, 8, 64)            0         \n",
            "                                                                 \n",
            " conv5 (Conv2D)              (64, 8, 8, 128)           73856     \n",
            "                                                                 \n",
            " bn5 (BatchNormalization)    (64, 8, 8, 128)           512       \n",
            "                                                                 \n",
            " conv6 (Conv2D)              (64, 8, 8, 128)           147584    \n",
            "                                                                 \n",
            " bn6 (BatchNormalization)    (64, 8, 8, 128)           512       \n",
            "                                                                 \n",
            " mp3 (MaxPooling2D)          (64, 4, 4, 128)           0         \n",
            "                                                                 \n",
            " dropout_2 (Dropout)         (64, 4, 4, 128)           0         \n",
            "                                                                 \n",
            " flatten (Flatten)           (64, 2048)                0         \n",
            "                                                                 \n",
            " dense3 (Dense)              (64, 1024)                2098176   \n",
            "                                                                 \n",
            " bn9 (BatchNormalization)    (64, 1024)                4096      \n",
            "                                                                 \n",
            " dropout_3 (Dropout)         (64, 1024)                0         \n",
            "                                                                 \n",
            " dense4 (Dense)              (64, 10)                  10250     \n",
            "                                                                 \n",
            "=================================================================\n",
            "Total params: 2,401,322\n",
            "Trainable params: 2,398,378\n",
            "Non-trainable params: 2,944\n",
            "_________________________________________________________________\n"
          ]
        }
      ],
      "source": [
        "model = keras.Sequential(\n",
        "    [\n",
        "        keras.layers.InputLayer(input_shape=(32, 32,3),batch_size=64),\n",
        "     \n",
        "        keras.layers.Conv2D(32, (3, 3), name=\"conv1\", activation='relu',padding='same'),\n",
        "        keras.layers.BatchNormalization(name=\"bn1\"),  \n",
        "        keras.layers.Conv2D(32, (3, 3),name=\"conv2\", activation='relu', padding='same'),\n",
        "        keras.layers.BatchNormalization(name=\"bn2\"),\n",
        "        keras.layers.MaxPooling2D(pool_size=(2, 2),name=\"mp1\"),\n",
        "        keras.layers.Dropout(0.2),\n",
        "        keras.layers.Conv2D(64, (3, 3),name=\"conv3\", activation='relu', padding='same'),\n",
        "        keras.layers.BatchNormalization(name=\"bn3\"),\n",
        "        keras.layers.Conv2D(64, (3, 3),name=\"conv4\", activation='relu', padding='same'),\n",
        "        keras.layers.BatchNormalization(name=\"bn4\"),\n",
        "        keras.layers.MaxPooling2D(pool_size=(2, 2),name=\"mp2\"),\n",
        "        keras.layers.Dropout(0.3),\n",
        "        keras.layers.Conv2D(128, (3, 3),name=\"conv5\", activation='relu', padding='same'),\n",
        "        keras.layers.BatchNormalization(name=\"bn5\"),\n",
        "        keras.layers.Conv2D(128, (3, 3),name=\"conv6\", activation='relu', padding='same'),\n",
        "        keras.layers.BatchNormalization(name=\"bn6\"),\n",
        "        keras.layers.MaxPooling2D(pool_size=(2, 2),name=\"mp3\"),\n",
        "        keras.layers.Dropout(0.4),\n",
        "     \n",
        "        keras.layers.Flatten(name = \"flatten\"),\n",
        "        #keras.layers.Dropout(0.2, name=\"dp1\"),\n",
        "        #keras.layers.Dense(512, name=\"dense1\", activation='relu'),\n",
        "        #keras.layers.BatchNormalization(name=\"bn7\"),\n",
        "        #keras.layers.Dropout(0.4),\n",
        "        #keras.layers.Dense(256, name=\"dense2\", activation='relu'),\n",
        "        #keras.layers.BatchNormalization(name=\"bn8\"),\n",
        "        #keras.layers.Dropout(0.2),\n",
        "        keras.layers.Dense(1024, name=\"dense3\", activation='relu'),\n",
        "        keras.layers.BatchNormalization(name=\"bn9\"),\n",
        "        keras.layers.Dropout(0.5),\n",
        "        keras.layers.Dense(10, name=\"dense4\", activation='softmax')\n",
        "    ],\n",
        "    name=\"modelo-0.0\",\n",
        ")\n",
        "\n",
        "for layer in model.trainable_variables:\n",
        "    #print(layer.name)\n",
        "    if 'bias' in layer.name:\n",
        "        new_bias = tf.cast(tf.where(tf.abs(layer) >= 0, 0.1, 0.1), tf.float32)\n",
        "        layer.assign(new_bias)\n",
        "\n",
        "model.summary()"
      ]
    },
    {
      "cell_type": "code",
      "execution_count": 6,
      "metadata": {
        "colab": {
          "base_uri": "https://localhost:8080/"
        },
        "id": "lNxvzk3pc98Z",
        "outputId": "ad823622-926d-4976-b25d-31e6484382d7"
      },
      "outputs": [
        {
          "name": "stdout",
          "output_type": "stream",
          "text": [
            "Created Tensor of velocity\n"
          ]
        },
        {
          "name": "stderr",
          "output_type": "stream",
          "text": [
            "<string>:6: VisibleDeprecationWarning: Creating an ndarray from ragged nested sequences (which is a list-or-tuple of lists-or-tuples-or ndarrays with different lengths or shapes) is deprecated. If you meant to do this, you must specify 'dtype=object' when creating the ndarray.\n"
          ]
        },
        {
          "name": "stdout",
          "output_type": "stream",
          "text": [
            "Epoch 1/150 \t Loss = 2.994 \t Train Acc = 32.004% \t Sparsity = 0.000% \t Test Loss = 2.192 \tTest Acc = 32.350%\n",
            "New test accuracy is 32.350%, Model saved\n",
            "WARNING:tensorflow:Compiled the loaded model, but the compiled metrics have yet to be built. `model.compile_metrics` will be empty until you train or evaluate the model.\n",
            "Epoch 2/150 \t Loss = 2.282 \t Train Acc = 41.240% \t Sparsity = 0.000% \t Test Loss = 1.565 \tTest Acc = 47.260%\n",
            "New test accuracy is 47.260%, Model saved\n",
            "WARNING:tensorflow:Compiled the loaded model, but the compiled metrics have yet to be built. `model.compile_metrics` will be empty until you train or evaluate the model.\n",
            "Epoch 3/150 \t Loss = 1.826 \t Train Acc = 47.750% \t Sparsity = 0.000% \t Test Loss = 1.268 \tTest Acc = 53.790%\n",
            "New test accuracy is 53.790%, Model saved\n",
            "WARNING:tensorflow:Compiled the loaded model, but the compiled metrics have yet to be built. `model.compile_metrics` will be empty until you train or evaluate the model.\n",
            "Epoch 4/150 \t Loss = 1.459 \t Train Acc = 53.282% \t Sparsity = 0.000% \t Test Loss = 1.189 \tTest Acc = 58.980%\n",
            "New test accuracy is 58.980%, Model saved\n",
            "WARNING:tensorflow:Compiled the loaded model, but the compiled metrics have yet to be built. `model.compile_metrics` will be empty until you train or evaluate the model.\n",
            "Epoch 5/150 \t Loss = 1.194 \t Train Acc = 59.234% \t Sparsity = 0.000% \t Test Loss = 1.007 \tTest Acc = 65.210%\n",
            "New test accuracy is 65.210%, Model saved\n",
            "WARNING:tensorflow:Compiled the loaded model, but the compiled metrics have yet to be built. `model.compile_metrics` will be empty until you train or evaluate the model.\n",
            "Epoch 6/150 \t Loss = 1.046 \t Train Acc = 63.018% \t Sparsity = 0.000% \t Test Loss = 0.881 \tTest Acc = 68.640%\n",
            "New test accuracy is 68.640%, Model saved\n",
            "WARNING:tensorflow:Compiled the loaded model, but the compiled metrics have yet to be built. `model.compile_metrics` will be empty until you train or evaluate the model.\n",
            "Epoch 7/150 \t Loss = 0.943 \t Train Acc = 66.716% \t Sparsity = 0.000% \t Test Loss = 0.859 \tTest Acc = 69.700%\n",
            "New test accuracy is 69.700%, Model saved\n",
            "WARNING:tensorflow:Compiled the loaded model, but the compiled metrics have yet to be built. `model.compile_metrics` will be empty until you train or evaluate the model.\n",
            "Epoch 8/150 \t Loss = 0.875 \t Train Acc = 68.662% \t Sparsity = 0.000% \t Test Loss = 0.813 \tTest Acc = 73.050%\n",
            "New test accuracy is 73.050%, Model saved\n",
            "WARNING:tensorflow:Compiled the loaded model, but the compiled metrics have yet to be built. `model.compile_metrics` will be empty until you train or evaluate the model.\n",
            "Epoch 9/150 \t Loss = 0.825 \t Train Acc = 70.694% \t Sparsity = 0.000% \t Test Loss = 0.779 \tTest Acc = 72.620%\n",
            "Epoch 10/150 \t Loss = 0.776 \t Train Acc = 72.438% \t Sparsity = 0.000% \t Test Loss = 0.773 \tTest Acc = 74.800%\n",
            "New test accuracy is 74.800%, Model saved\n",
            "WARNING:tensorflow:Compiled the loaded model, but the compiled metrics have yet to be built. `model.compile_metrics` will be empty until you train or evaluate the model.\n",
            "Epoch 11/150 \t Loss = 0.744 \t Train Acc = 73.694% \t Sparsity = 0.000% \t Test Loss = 0.684 \tTest Acc = 76.720%\n",
            "New test accuracy is 76.720%, Model saved\n",
            "WARNING:tensorflow:Compiled the loaded model, but the compiled metrics have yet to be built. `model.compile_metrics` will be empty until you train or evaluate the model.\n",
            "Epoch 12/150 \t Loss = 0.705 \t Train Acc = 75.090% \t Sparsity = 0.000% \t Test Loss = 0.676 \tTest Acc = 76.170%\n",
            "Epoch 13/150 \t Loss = 0.678 \t Train Acc = 76.154% \t Sparsity = 0.000% \t Test Loss = 0.622 \tTest Acc = 78.350%\n",
            "New test accuracy is 78.350%, Model saved\n",
            "WARNING:tensorflow:Compiled the loaded model, but the compiled metrics have yet to be built. `model.compile_metrics` will be empty until you train or evaluate the model.\n",
            "Epoch 14/150 \t Loss = 0.654 \t Train Acc = 76.956% \t Sparsity = 0.000% \t Test Loss = 0.635 \tTest Acc = 77.830%\n",
            "Epoch 15/150 \t Loss = 0.623 \t Train Acc = 78.116% \t Sparsity = 0.000% \t Test Loss = 0.610 \tTest Acc = 79.270%\n",
            "New test accuracy is 79.270%, Model saved\n",
            "WARNING:tensorflow:Compiled the loaded model, but the compiled metrics have yet to be built. `model.compile_metrics` will be empty until you train or evaluate the model.\n",
            "Epoch 16/150 \t Loss = 0.608 \t Train Acc = 78.562% \t Sparsity = 0.000% \t Test Loss = 0.585 \tTest Acc = 79.760%\n",
            "New test accuracy is 79.760%, Model saved\n",
            "WARNING:tensorflow:Compiled the loaded model, but the compiled metrics have yet to be built. `model.compile_metrics` will be empty until you train or evaluate the model.\n",
            "Epoch 17/150 \t Loss = 0.584 \t Train Acc = 79.284% \t Sparsity = 0.000% \t Test Loss = 0.572 \tTest Acc = 80.450%\n",
            "New test accuracy is 80.450%, Model saved\n",
            "WARNING:tensorflow:Compiled the loaded model, but the compiled metrics have yet to be built. `model.compile_metrics` will be empty until you train or evaluate the model.\n",
            "Epoch 18/150 \t Loss = 0.570 \t Train Acc = 79.840% \t Sparsity = 0.000% \t Test Loss = 0.637 \tTest Acc = 78.510%\n",
            "Epoch 19/150 \t Loss = 0.548 \t Train Acc = 80.894% \t Sparsity = 0.000% \t Test Loss = 0.556 \tTest Acc = 81.280%\n",
            "New test accuracy is 81.280%, Model saved\n",
            "WARNING:tensorflow:Compiled the loaded model, but the compiled metrics have yet to be built. `model.compile_metrics` will be empty until you train or evaluate the model.\n",
            "Epoch 20/150 \t Loss = 0.527 \t Train Acc = 81.290% \t Sparsity = 0.000% \t Test Loss = 0.538 \tTest Acc = 81.900%\n",
            "New test accuracy is 81.900%, Model saved\n",
            "WARNING:tensorflow:Compiled the loaded model, but the compiled metrics have yet to be built. `model.compile_metrics` will be empty until you train or evaluate the model.\n",
            "Epoch 21/150 \t Loss = 0.519 \t Train Acc = 81.634% \t Sparsity = 0.000% \t Test Loss = 0.536 \tTest Acc = 81.600%\n",
            "Epoch 22/150 \t Loss = 0.505 \t Train Acc = 82.272% \t Sparsity = 0.000% \t Test Loss = 0.525 \tTest Acc = 82.010%\n",
            "New test accuracy is 82.010%, Model saved\n",
            "WARNING:tensorflow:Compiled the loaded model, but the compiled metrics have yet to be built. `model.compile_metrics` will be empty until you train or evaluate the model.\n",
            "Epoch 23/150 \t Loss = 0.481 \t Train Acc = 82.886% \t Sparsity = 0.000% \t Test Loss = 0.503 \tTest Acc = 83.040%\n",
            "New test accuracy is 83.040%, Model saved\n",
            "WARNING:tensorflow:Compiled the loaded model, but the compiled metrics have yet to be built. `model.compile_metrics` will be empty until you train or evaluate the model.\n",
            "Epoch 24/150 \t Loss = 0.473 \t Train Acc = 83.382% \t Sparsity = 0.000% \t Test Loss = 0.510 \tTest Acc = 82.800%\n",
            "Epoch 25/150 \t Loss = 0.464 \t Train Acc = 83.748% \t Sparsity = 0.000% \t Test Loss = 0.542 \tTest Acc = 81.690%\n",
            "Epoch 26/150 \t Loss = 0.456 \t Train Acc = 83.820% \t Sparsity = 0.000% \t Test Loss = 0.527 \tTest Acc = 82.380%\n",
            "Epoch 27/150 \t Loss = 0.440 \t Train Acc = 84.462% \t Sparsity = 0.000% \t Test Loss = 0.522 \tTest Acc = 82.800%\n",
            "Epoch 28/150 \t Loss = 0.428 \t Train Acc = 84.922% \t Sparsity = 0.000% \t Test Loss = 0.505 \tTest Acc = 83.570%\n",
            "New test accuracy is 83.570%, Model saved\n",
            "WARNING:tensorflow:Compiled the loaded model, but the compiled metrics have yet to be built. `model.compile_metrics` will be empty until you train or evaluate the model.\n",
            "Epoch 29/150 \t Loss = 0.420 \t Train Acc = 85.186% \t Sparsity = 0.000% \t Test Loss = 0.509 \tTest Acc = 83.170%\n",
            "Epoch 30/150 \t Loss = 0.406 \t Train Acc = 85.710% \t Sparsity = 0.000% \t Test Loss = 0.507 \tTest Acc = 83.250%\n",
            "Epoch 31/150 \t Loss = 0.395 \t Train Acc = 86.066% \t Sparsity = 0.000% \t Test Loss = 0.482 \tTest Acc = 84.180%\n",
            "New test accuracy is 84.180%, Model saved\n",
            "WARNING:tensorflow:Compiled the loaded model, but the compiled metrics have yet to be built. `model.compile_metrics` will be empty until you train or evaluate the model.\n",
            "Epoch 32/150 \t Loss = 0.388 \t Train Acc = 86.164% \t Sparsity = 0.000% \t Test Loss = 0.498 \tTest Acc = 83.570%\n",
            "Epoch 33/150 \t Loss = 0.382 \t Train Acc = 86.398% \t Sparsity = 0.000% \t Test Loss = 0.488 \tTest Acc = 84.090%\n",
            "Epoch 34/150 \t Loss = 0.383 \t Train Acc = 86.452% \t Sparsity = 0.000% \t Test Loss = 0.496 \tTest Acc = 83.950%\n",
            "Epoch 35/150 \t Loss = 0.364 \t Train Acc = 87.072% \t Sparsity = 0.000% \t Test Loss = 0.500 \tTest Acc = 83.860%\n",
            "Epoch 36/150 \t Loss = 0.361 \t Train Acc = 87.172% \t Sparsity = 0.000% \t Test Loss = 0.491 \tTest Acc = 84.150%\n",
            "Epoch 37/150 \t Loss = 0.351 \t Train Acc = 87.500% \t Sparsity = 0.000% \t Test Loss = 0.490 \tTest Acc = 84.160%\n",
            "Epoch 38/150 \t Loss = 0.348 \t Train Acc = 87.666% \t Sparsity = 0.000% \t Test Loss = 0.490 \tTest Acc = 84.140%\n",
            "Epoch 39/150 \t Loss = 0.338 \t Train Acc = 87.952% \t Sparsity = 0.000% \t Test Loss = 0.516 \tTest Acc = 83.460%\n",
            "Epoch 40/150 \t Loss = 0.330 \t Train Acc = 88.256% \t Sparsity = 0.000% \t Test Loss = 0.500 \tTest Acc = 84.010%\n",
            "Epoch 41/150 \t Loss = 0.324 \t Train Acc = 88.486% \t Sparsity = 0.000% \t Test Loss = 0.476 \tTest Acc = 84.640%\n",
            "New test accuracy is 84.640%, Model saved\n",
            "WARNING:tensorflow:Compiled the loaded model, but the compiled metrics have yet to be built. `model.compile_metrics` will be empty until you train or evaluate the model.\n",
            "Epoch 42/150 \t Loss = 0.316 \t Train Acc = 88.726% \t Sparsity = 0.000% \t Test Loss = 0.470 \tTest Acc = 84.810%\n",
            "New test accuracy is 84.810%, Model saved\n",
            "WARNING:tensorflow:Compiled the loaded model, but the compiled metrics have yet to be built. `model.compile_metrics` will be empty until you train or evaluate the model.\n",
            "Epoch 43/150 \t Loss = 0.315 \t Train Acc = 88.862% \t Sparsity = 0.000% \t Test Loss = 0.460 \tTest Acc = 85.620%\n",
            "New test accuracy is 85.620%, Model saved\n",
            "WARNING:tensorflow:Compiled the loaded model, but the compiled metrics have yet to be built. `model.compile_metrics` will be empty until you train or evaluate the model.\n",
            "Epoch 44/150 \t Loss = 0.310 \t Train Acc = 89.076% \t Sparsity = 0.000% \t Test Loss = 0.485 \tTest Acc = 84.400%\n",
            "Epoch 45/150 \t Loss = 0.299 \t Train Acc = 89.280% \t Sparsity = 0.000% \t Test Loss = 0.470 \tTest Acc = 84.950%\n",
            "Epoch 46/150 \t Loss = 0.302 \t Train Acc = 89.260% \t Sparsity = 0.000% \t Test Loss = 0.473 \tTest Acc = 84.910%\n",
            "Epoch 47/150 \t Loss = 0.283 \t Train Acc = 89.874% \t Sparsity = 0.000% \t Test Loss = 0.464 \tTest Acc = 85.140%\n",
            "Epoch 48/150 \t Loss = 0.288 \t Train Acc = 89.772% \t Sparsity = 0.000% \t Test Loss = 0.466 \tTest Acc = 84.900%\n",
            "Epoch 49/150 \t Loss = 0.281 \t Train Acc = 89.882% \t Sparsity = 0.000% \t Test Loss = 0.464 \tTest Acc = 85.290%\n",
            "Epoch 50/150 \t Loss = 0.278 \t Train Acc = 90.028% \t Sparsity = 0.000% \t Test Loss = 0.484 \tTest Acc = 84.760%\n",
            "Epoch 51/150 \t Loss = 0.275 \t Train Acc = 90.094% \t Sparsity = 0.000% \t Test Loss = 0.491 \tTest Acc = 84.550%\n",
            "Epoch 52/150 \t Loss = 0.266 \t Train Acc = 90.492% \t Sparsity = 0.000% \t Test Loss = 0.488 \tTest Acc = 85.010%\n",
            "Epoch 53/150 \t Loss = 0.261 \t Train Acc = 90.550% \t Sparsity = 0.000% \t Test Loss = 0.475 \tTest Acc = 85.000%\n",
            "Epoch 54/150 \t Loss = 0.263 \t Train Acc = 90.722% \t Sparsity = 0.000% \t Test Loss = 0.471 \tTest Acc = 85.610%\n",
            "Epoch 55/150 \t Loss = 0.261 \t Train Acc = 90.748% \t Sparsity = 0.000% \t Test Loss = 0.484 \tTest Acc = 85.170%\n",
            "Epoch 56/150 \t Loss = 0.251 \t Train Acc = 90.888% \t Sparsity = 0.000% \t Test Loss = 0.484 \tTest Acc = 85.040%\n",
            "Epoch 57/150 \t Loss = 0.247 \t Train Acc = 91.026% \t Sparsity = 0.000% \t Test Loss = 0.515 \tTest Acc = 84.570%\n",
            "Epoch 58/150 \t Loss = 0.241 \t Train Acc = 91.380% \t Sparsity = 0.000% \t Test Loss = 0.474 \tTest Acc = 85.560%\n",
            "Epoch 59/150 \t Loss = 0.242 \t Train Acc = 91.442% \t Sparsity = 0.000% \t Test Loss = 0.517 \tTest Acc = 84.750%\n",
            "Epoch 60/150 \t Loss = 0.235 \t Train Acc = 91.726% \t Sparsity = 0.000% \t Test Loss = 0.493 \tTest Acc = 85.050%\n",
            "Epoch 61/150 \t Loss = 0.231 \t Train Acc = 91.690% \t Sparsity = 0.000% \t Test Loss = 0.489 \tTest Acc = 85.390%\n",
            "Epoch 62/150 \t Loss = 0.236 \t Train Acc = 91.542% \t Sparsity = 0.000% \t Test Loss = 0.479 \tTest Acc = 85.610%\n",
            "Epoch 63/150 \t Loss = 0.224 \t Train Acc = 91.852% \t Sparsity = 0.000% \t Test Loss = 0.477 \tTest Acc = 85.340%\n",
            "Epoch 64/150 \t Loss = 0.220 \t Train Acc = 92.076% \t Sparsity = 0.000% \t Test Loss = 0.519 \tTest Acc = 84.700%\n",
            "Epoch 65/150 \t Loss = 0.220 \t Train Acc = 92.190% \t Sparsity = 0.000% \t Test Loss = 0.480 \tTest Acc = 85.890%\n",
            "New test accuracy is 85.890%, Model saved\n",
            "WARNING:tensorflow:Compiled the loaded model, but the compiled metrics have yet to be built. `model.compile_metrics` will be empty until you train or evaluate the model.\n",
            "Epoch 66/150 \t Loss = 0.220 \t Train Acc = 92.142% \t Sparsity = 0.000% \t Test Loss = 0.478 \tTest Acc = 85.840%\n",
            "Epoch 67/150 \t Loss = 0.218 \t Train Acc = 92.206% \t Sparsity = 0.000% \t Test Loss = 0.474 \tTest Acc = 85.640%\n",
            "Epoch 68/150 \t Loss = 0.217 \t Train Acc = 92.224% \t Sparsity = 0.000% \t Test Loss = 0.480 \tTest Acc = 85.650%\n",
            "Epoch 69/150 \t Loss = 0.208 \t Train Acc = 92.636% \t Sparsity = 0.000% \t Test Loss = 0.473 \tTest Acc = 85.620%\n",
            "Epoch 70/150 \t Loss = 0.212 \t Train Acc = 92.372% \t Sparsity = 0.000% \t Test Loss = 0.474 \tTest Acc = 85.670%\n",
            "Epoch 71/150 \t Loss = 0.203 \t Train Acc = 92.734% \t Sparsity = 0.000% \t Test Loss = 0.481 \tTest Acc = 85.670%\n",
            "Epoch 72/150 \t Loss = 0.204 \t Train Acc = 92.678% \t Sparsity = 0.000% \t Test Loss = 0.470 \tTest Acc = 85.850%\n",
            "Epoch 73/150 \t Loss = 0.202 \t Train Acc = 92.730% \t Sparsity = 0.000% \t Test Loss = 0.518 \tTest Acc = 85.120%\n",
            "Epoch 74/150 \t Loss = 0.194 \t Train Acc = 93.016% \t Sparsity = 0.000% \t Test Loss = 0.506 \tTest Acc = 85.670%\n",
            "Epoch 75/150 \t Loss = 0.198 \t Train Acc = 92.932% \t Sparsity = 0.000% \t Test Loss = 0.499 \tTest Acc = 85.570%\n",
            "Epoch 76/150 \t Loss = 0.196 \t Train Acc = 93.042% \t Sparsity = 0.000% \t Test Loss = 0.491 \tTest Acc = 85.630%\n",
            "Epoch 77/150 \t Loss = 0.190 \t Train Acc = 93.124% \t Sparsity = 0.000% \t Test Loss = 0.480 \tTest Acc = 86.070%\n",
            "New test accuracy is 86.070%, Model saved\n",
            "WARNING:tensorflow:Compiled the loaded model, but the compiled metrics have yet to be built. `model.compile_metrics` will be empty until you train or evaluate the model.\n",
            "Epoch 78/150 \t Loss = 0.191 \t Train Acc = 93.160% \t Sparsity = 0.000% \t Test Loss = 0.494 \tTest Acc = 85.870%\n",
            "Epoch 79/150 \t Loss = 0.181 \t Train Acc = 93.570% \t Sparsity = 0.000% \t Test Loss = 0.499 \tTest Acc = 85.850%\n",
            "Epoch 80/150 \t Loss = 0.187 \t Train Acc = 93.384% \t Sparsity = 0.000% \t Test Loss = 0.510 \tTest Acc = 85.310%\n",
            "Epoch 81/150 \t Loss = 0.186 \t Train Acc = 93.368% \t Sparsity = 0.000% \t Test Loss = 0.519 \tTest Acc = 85.230%\n",
            "Epoch 82/150 \t Loss = 0.184 \t Train Acc = 93.398% \t Sparsity = 0.000% \t Test Loss = 0.508 \tTest Acc = 85.520%\n",
            "Epoch 83/150 \t Loss = 0.180 \t Train Acc = 93.634% \t Sparsity = 0.000% \t Test Loss = 0.485 \tTest Acc = 86.130%\n",
            "New test accuracy is 86.130%, Model saved\n",
            "WARNING:tensorflow:Compiled the loaded model, but the compiled metrics have yet to be built. `model.compile_metrics` will be empty until you train or evaluate the model.\n",
            "Epoch 84/150 \t Loss = 0.175 \t Train Acc = 93.714% \t Sparsity = 0.000% \t Test Loss = 0.485 \tTest Acc = 85.940%\n",
            "Epoch 85/150 \t Loss = 0.177 \t Train Acc = 93.754% \t Sparsity = 0.000% \t Test Loss = 0.494 \tTest Acc = 85.710%\n",
            "Epoch 86/150 \t Loss = 0.174 \t Train Acc = 93.718% \t Sparsity = 0.000% \t Test Loss = 0.492 \tTest Acc = 85.650%\n",
            "Epoch 87/150 \t Loss = 0.171 \t Train Acc = 93.864% \t Sparsity = 0.000% \t Test Loss = 0.497 \tTest Acc = 85.990%\n",
            "Epoch 88/150 \t Loss = 0.168 \t Train Acc = 93.934% \t Sparsity = 0.000% \t Test Loss = 0.489 \tTest Acc = 85.870%\n",
            "Epoch 89/150 \t Loss = 0.174 \t Train Acc = 93.758% \t Sparsity = 0.000% \t Test Loss = 0.495 \tTest Acc = 85.930%\n",
            "Epoch 90/150 \t Loss = 0.166 \t Train Acc = 94.272% \t Sparsity = 0.000% \t Test Loss = 0.486 \tTest Acc = 85.970%\n",
            "Epoch 91/150 \t Loss = 0.167 \t Train Acc = 94.068% \t Sparsity = 0.000% \t Test Loss = 0.528 \tTest Acc = 85.310%\n",
            "Epoch 92/150 \t Loss = 0.160 \t Train Acc = 94.278% \t Sparsity = 0.000% \t Test Loss = 0.507 \tTest Acc = 85.670%\n",
            "Epoch 93/150 \t Loss = 0.162 \t Train Acc = 94.248% \t Sparsity = 0.000% \t Test Loss = 0.511 \tTest Acc = 85.800%\n",
            "Epoch 94/150 \t Loss = 0.163 \t Train Acc = 94.356% \t Sparsity = 0.000% \t Test Loss = 0.500 \tTest Acc = 86.070%\n",
            "Epoch 95/150 \t Loss = 0.162 \t Train Acc = 94.240% \t Sparsity = 0.000% \t Test Loss = 0.502 \tTest Acc = 85.710%\n",
            "Epoch 96/150 \t Loss = 0.163 \t Train Acc = 94.204% \t Sparsity = 0.000% \t Test Loss = 0.489 \tTest Acc = 85.930%\n",
            "Epoch 97/150 \t Loss = 0.151 \t Train Acc = 94.554% \t Sparsity = 0.000% \t Test Loss = 0.499 \tTest Acc = 86.040%\n",
            "Epoch 98/150 \t Loss = 0.151 \t Train Acc = 94.676% \t Sparsity = 0.000% \t Test Loss = 0.519 \tTest Acc = 85.540%\n",
            "Epoch 99/150 \t Loss = 0.150 \t Train Acc = 94.722% \t Sparsity = 0.000% \t Test Loss = 0.504 \tTest Acc = 86.490%\n",
            "New test accuracy is 86.490%, Model saved\n",
            "WARNING:tensorflow:Compiled the loaded model, but the compiled metrics have yet to be built. `model.compile_metrics` will be empty until you train or evaluate the model.\n",
            "Epoch 100/150 \t Loss = 0.155 \t Train Acc = 94.508% \t Sparsity = 0.000% \t Test Loss = 0.502 \tTest Acc = 85.870%\n",
            "Epoch 101/150 \t Loss = 0.150 \t Train Acc = 94.714% \t Sparsity = 0.000% \t Test Loss = 0.487 \tTest Acc = 86.490%\n",
            "Epoch 102/150 \t Loss = 0.154 \t Train Acc = 94.536% \t Sparsity = 0.000% \t Test Loss = 0.496 \tTest Acc = 86.060%\n",
            "Epoch 103/150 \t Loss = 0.148 \t Train Acc = 94.758% \t Sparsity = 0.000% \t Test Loss = 0.510 \tTest Acc = 86.200%\n",
            "Epoch 104/150 \t Loss = 0.146 \t Train Acc = 94.724% \t Sparsity = 0.000% \t Test Loss = 0.512 \tTest Acc = 86.130%\n",
            "Epoch 105/150 \t Loss = 0.144 \t Train Acc = 94.868% \t Sparsity = 0.000% \t Test Loss = 0.505 \tTest Acc = 86.040%\n",
            "Epoch 106/150 \t Loss = 0.146 \t Train Acc = 94.728% \t Sparsity = 0.000% \t Test Loss = 0.502 \tTest Acc = 86.370%\n",
            "Epoch 107/150 \t Loss = 0.146 \t Train Acc = 94.842% \t Sparsity = 0.000% \t Test Loss = 0.490 \tTest Acc = 86.640%\n",
            "New test accuracy is 86.640%, Model saved\n",
            "WARNING:tensorflow:Compiled the loaded model, but the compiled metrics have yet to be built. `model.compile_metrics` will be empty until you train or evaluate the model.\n",
            "Epoch 108/150 \t Loss = 0.141 \t Train Acc = 94.990% \t Sparsity = 0.000% \t Test Loss = 0.503 \tTest Acc = 86.230%\n",
            "Epoch 109/150 \t Loss = 0.140 \t Train Acc = 95.096% \t Sparsity = 0.000% \t Test Loss = 0.506 \tTest Acc = 86.320%\n",
            "Epoch 110/150 \t Loss = 0.143 \t Train Acc = 94.990% \t Sparsity = 0.000% \t Test Loss = 0.511 \tTest Acc = 85.720%\n",
            "Epoch 111/150 \t Loss = 0.139 \t Train Acc = 95.138% \t Sparsity = 0.000% \t Test Loss = 0.538 \tTest Acc = 85.630%\n",
            "Epoch 112/150 \t Loss = 0.143 \t Train Acc = 94.892% \t Sparsity = 0.000% \t Test Loss = 0.521 \tTest Acc = 85.880%\n",
            "Epoch 113/150 \t Loss = 0.133 \t Train Acc = 95.322% \t Sparsity = 0.000% \t Test Loss = 0.493 \tTest Acc = 86.400%\n",
            "Epoch 114/150 \t Loss = 0.133 \t Train Acc = 95.264% \t Sparsity = 0.000% \t Test Loss = 0.522 \tTest Acc = 86.320%\n",
            "Epoch 115/150 \t Loss = 0.133 \t Train Acc = 95.274% \t Sparsity = 0.000% \t Test Loss = 0.503 \tTest Acc = 86.430%\n",
            "Epoch 116/150 \t Loss = 0.136 \t Train Acc = 95.184% \t Sparsity = 0.000% \t Test Loss = 0.506 \tTest Acc = 86.550%\n",
            "Epoch 117/150 \t Loss = 0.133 \t Train Acc = 95.332% \t Sparsity = 0.000% \t Test Loss = 0.516 \tTest Acc = 86.300%\n",
            "Epoch 118/150 \t Loss = 0.127 \t Train Acc = 95.522% \t Sparsity = 0.000% \t Test Loss = 0.501 \tTest Acc = 86.710%\n",
            "New test accuracy is 86.710%, Model saved\n",
            "WARNING:tensorflow:Compiled the loaded model, but the compiled metrics have yet to be built. `model.compile_metrics` will be empty until you train or evaluate the model.\n",
            "Epoch 119/150 \t Loss = 0.125 \t Train Acc = 95.612% \t Sparsity = 0.000% \t Test Loss = 0.519 \tTest Acc = 86.180%\n",
            "Epoch 120/150 \t Loss = 0.133 \t Train Acc = 95.330% \t Sparsity = 0.000% \t Test Loss = 0.509 \tTest Acc = 86.350%\n",
            "Epoch 121/150 \t Loss = 0.127 \t Train Acc = 95.584% \t Sparsity = 0.000% \t Test Loss = 0.505 \tTest Acc = 86.320%\n",
            "Epoch 122/150 \t Loss = 0.128 \t Train Acc = 95.500% \t Sparsity = 0.000% \t Test Loss = 0.518 \tTest Acc = 86.170%\n",
            "Epoch 123/150 \t Loss = 0.125 \t Train Acc = 95.540% \t Sparsity = 0.000% \t Test Loss = 0.503 \tTest Acc = 86.570%\n",
            "Epoch 124/150 \t Loss = 0.126 \t Train Acc = 95.558% \t Sparsity = 0.000% \t Test Loss = 0.508 \tTest Acc = 86.520%\n",
            "Epoch 125/150 \t Loss = 0.126 \t Train Acc = 95.672% \t Sparsity = 0.000% \t Test Loss = 0.501 \tTest Acc = 86.280%\n",
            "Epoch 126/150 \t Loss = 0.125 \t Train Acc = 95.604% \t Sparsity = 0.000% \t Test Loss = 0.509 \tTest Acc = 86.540%\n",
            "Epoch 127/150 \t Loss = 0.122 \t Train Acc = 95.666% \t Sparsity = 0.000% \t Test Loss = 0.527 \tTest Acc = 85.890%\n",
            "Epoch 128/150 \t Loss = 0.128 \t Train Acc = 95.568% \t Sparsity = 0.000% \t Test Loss = 0.518 \tTest Acc = 86.190%\n",
            "Epoch 129/150 \t Loss = 0.123 \t Train Acc = 95.700% \t Sparsity = 0.000% \t Test Loss = 0.527 \tTest Acc = 86.460%\n",
            "Epoch 130/150 \t Loss = 0.116 \t Train Acc = 95.944% \t Sparsity = 0.000% \t Test Loss = 0.509 \tTest Acc = 86.500%\n",
            "Epoch 131/150 \t Loss = 0.113 \t Train Acc = 95.962% \t Sparsity = 0.000% \t Test Loss = 0.513 \tTest Acc = 86.830%\n",
            "New test accuracy is 86.830%, Model saved\n",
            "WARNING:tensorflow:Compiled the loaded model, but the compiled metrics have yet to be built. `model.compile_metrics` will be empty until you train or evaluate the model.\n",
            "Epoch 132/150 \t Loss = 0.117 \t Train Acc = 95.974% \t Sparsity = 0.000% \t Test Loss = 0.534 \tTest Acc = 86.300%\n",
            "Epoch 133/150 \t Loss = 0.121 \t Train Acc = 95.806% \t Sparsity = 0.000% \t Test Loss = 0.510 \tTest Acc = 86.380%\n",
            "Epoch 134/150 \t Loss = 0.117 \t Train Acc = 95.926% \t Sparsity = 0.000% \t Test Loss = 0.517 \tTest Acc = 86.680%\n",
            "Epoch 135/150 \t Loss = 0.115 \t Train Acc = 95.920% \t Sparsity = 0.000% \t Test Loss = 0.525 \tTest Acc = 86.460%\n",
            "Epoch 136/150 \t Loss = 0.119 \t Train Acc = 95.894% \t Sparsity = 0.000% \t Test Loss = 0.514 \tTest Acc = 86.590%\n",
            "Epoch 137/150 \t Loss = 0.116 \t Train Acc = 95.900% \t Sparsity = 0.000% \t Test Loss = 0.509 \tTest Acc = 86.590%\n",
            "Epoch 138/150 \t Loss = 0.115 \t Train Acc = 95.958% \t Sparsity = 0.000% \t Test Loss = 0.514 \tTest Acc = 86.380%\n",
            "Epoch 139/150 \t Loss = 0.112 \t Train Acc = 96.032% \t Sparsity = 0.000% \t Test Loss = 0.523 \tTest Acc = 86.170%\n",
            "Epoch 140/150 \t Loss = 0.111 \t Train Acc = 96.168% \t Sparsity = 0.000% \t Test Loss = 0.524 \tTest Acc = 86.300%\n",
            "Epoch 141/150 \t Loss = 0.111 \t Train Acc = 96.096% \t Sparsity = 0.000% \t Test Loss = 0.529 \tTest Acc = 86.170%\n",
            "Epoch 142/150 \t Loss = 0.114 \t Train Acc = 95.970% \t Sparsity = 0.000% \t Test Loss = 0.510 \tTest Acc = 86.290%\n",
            "Epoch 143/150 \t Loss = 0.109 \t Train Acc = 96.132% \t Sparsity = 0.000% \t Test Loss = 0.497 \tTest Acc = 86.910%\n",
            "New test accuracy is 86.910%, Model saved\n",
            "WARNING:tensorflow:Compiled the loaded model, but the compiled metrics have yet to be built. `model.compile_metrics` will be empty until you train or evaluate the model.\n",
            "Epoch 144/150 \t Loss = 0.112 \t Train Acc = 96.034% \t Sparsity = 0.000% \t Test Loss = 0.518 \tTest Acc = 86.480%\n",
            "Epoch 145/150 \t Loss = 0.106 \t Train Acc = 96.294% \t Sparsity = 0.000% \t Test Loss = 0.507 \tTest Acc = 86.740%\n",
            "Epoch 146/150 \t Loss = 0.107 \t Train Acc = 96.216% \t Sparsity = 0.000% \t Test Loss = 0.519 \tTest Acc = 86.420%\n",
            "Epoch 147/150 \t Loss = 0.113 \t Train Acc = 95.960% \t Sparsity = 0.000% \t Test Loss = 0.517 \tTest Acc = 86.150%\n",
            "Epoch 148/150 \t Loss = 0.107 \t Train Acc = 96.174% \t Sparsity = 0.000% \t Test Loss = 0.526 \tTest Acc = 86.370%\n",
            "Epoch 149/150 \t Loss = 0.107 \t Train Acc = 96.314% \t Sparsity = 0.000% \t Test Loss = 0.517 \tTest Acc = 86.750%\n",
            "Epoch 150/150 \t Loss = 0.102 \t Train Acc = 96.440% \t Sparsity = 0.000% \t Test Loss = 0.519 \tTest Acc = 86.730%\n"
          ]
        }
      ],
      "source": [
        "epochs = 150\n",
        "alpha = 0\n",
        "n_bits = 0\n",
        "\n",
        "learning_rate = 0.015\n",
        "momentum = 0.9\n",
        "\n",
        "np.set_printoptions(threshold=np.inf)\n",
        "\n",
        "model_sparsity = np.array([])\n",
        "model_train_loss = np.array([])\n",
        "model_train_acc = np.array([])\n",
        "model_test_loss = np.array([])\n",
        "model_test_acc = np.array([])\n",
        "sparsity = 0\n",
        "\n",
        "last_test_acc = 0\n",
        "model_name = \"test_0.h5\"\n",
        "\n",
        "\n",
        "with tf.device('/device:GPU:0'):\n",
        "    #TODO: Quantizition of gammas and betas of batch_normalization layer\n",
        "    for epoch in range(epochs):\n",
        "        # Iterate over the batches of the dataset.\n",
        "        loss_batch = np.array([])\n",
        "        loss_test_batch = np.array([])\n",
        "        for step, (x_batch_train, y_batch_train) in enumerate(train_ds):\n",
        "            n_zeros = 0\n",
        "            size = 0\n",
        "            #pruning\n",
        "            if alpha > 0:\n",
        "                bk = []\n",
        "                for layer_weights in model.trainable_variables:\n",
        "                    if 'bn' in layer_weights.name:\n",
        "                        bk.append(-1)\n",
        "                    else:\n",
        "                        #flatten weights\n",
        "                        f_weights = tf.reshape(layer_weights,[-1])\n",
        "                        #get standard deviation of each layer\n",
        "                        lim = alpha*tf.math.reduce_std(f_weights)\n",
        "                        bk.append(lim)\n",
        "                        #create a mask\n",
        "                        mask = tf.cast(tf.where(tf.abs(layer_weights)>lim,1,0), tf.float32)\n",
        "                        #assign pruned weights to the layer\n",
        "                        layer_weights.assign(tf.math.multiply(layer_weights,mask))\n",
        "                        #check sparsity\n",
        "                        flat_array = np.array((tf.reshape(mask,[-1])))\n",
        "                        n_zeros += np.count_nonzero(np.array(flat_array) == 0)\n",
        "                        size += flat_array.shape[0]\n",
        "                        sparsity = n_zeros*100/size\n",
        "            else:\n",
        "                bk = [0] * len(model.trainable_weights)\n",
        "\n",
        "            #Cópia do modelo\n",
        "            if n_bits > 0 and alpha > 0:\n",
        "                model_copy = keras.models.clone_model(model)\n",
        "                model_copy.set_weights(model.get_weights())\n",
        "        \n",
        "            #Quantização\n",
        "            if n_bits > 0:\n",
        "                for i, layer_weights in enumerate(model.trainable_variables):\n",
        "                    if 'bn' in layer_weights.name:\n",
        "                        pass\n",
        "                    else:\n",
        "                        qk_line = (tf.reduce_max(tf.math.abs(layer_weights)) - bk[i]) / (2 ** (n_bits - 1) - 1)\n",
        "                        ck = tf.math.round(layer_weights / qk_line) * qk_line\n",
        "                        layer_weights.assign(ck)\n",
        "\n",
        "            with tf.GradientTape() as tape:\n",
        "                pred = model(x_batch_train, training=True)\n",
        "                loss = loss_fn(y_batch_train, pred)\n",
        "          \n",
        "            grads = tape.gradient(loss, model.trainable_weights)\n",
        "            if step==0 and epoch==0:\n",
        "                print(\"Created Tensor of velocity\")\n",
        "                v = np.zeros_like(grads)\n",
        "            if n_bits > 0 and alpha > 0:\n",
        "                for i, (layer_weights, copied_weights) in enumerate(zip(model.trainable_variables, model_copy.trainable_variables)):\n",
        "                    #TODO: Add momentum and velocity\n",
        "                    grads[i] = grads[i] * learning_rate\n",
        "                    #Get value of velocity\n",
        "                    v[i] = tf.math.subtract(momentum*v[i], grads[i])\n",
        "                    # WEIGHT UPDATE\n",
        "                    layer_weights.assign(tf.math.add(copied_weights, v[i]))\n",
        "            else:\n",
        "                for i, layer_weights in enumerate(model.trainable_variables):\n",
        "                    \n",
        "                    grads[i] = grads[i] * learning_rate\n",
        "                    v[i] = tf.math.subtract(momentum*v[i], grads[i])\n",
        "                    #WEIGHT UPDATE\n",
        "                    layer_weights.assign(tf.math.add(layer_weights, v[i]))\n",
        "            predictions = tf.argmax(pred, axis=1, output_type=tf.int32)\n",
        "            train_accuracy.update_state(y_batch_train,predictions)\n",
        "\n",
        "            #predictions = tf.argmax(pred, axis=1, output_type=tf.int32)\n",
        "            #acc = train_accuracy(y_batch_train, predictions)\n",
        "\n",
        "        #keep track of loss by batch\n",
        "            loss_batch = np.append(loss_batch, loss)\n",
        "        acc = train_accuracy.result()\n",
        "\n",
        "        #reset states\n",
        "        train_accuracy.reset_states()\n",
        "        #mean of loss by epoch\n",
        "        model_train_loss = np.append(model_train_loss, np.mean(loss_batch))\n",
        "        #train accuracy by epoch\n",
        "        model_train_acc = np.append(model_train_acc, acc*100)\n",
        "        #sparsity by epoch\n",
        "        model_sparsity = np.append(model_sparsity, sparsity)\n",
        "\n",
        "        if alpha > 0:\n",
        "            bk = []\n",
        "            for layer_weights in model.trainable_variables:\n",
        "                if 'bn' in layer_weights.name:\n",
        "                    bk.append(-1)\n",
        "                else:\n",
        "                    #flatten weights\n",
        "                    f_weights = tf.reshape(layer_weights,[-1])\n",
        "                    #get standard deviation of each layer\n",
        "                    lim = alpha*tf.math.reduce_std(f_weights)\n",
        "                    bk.append(lim)\n",
        "                    #create a mask\n",
        "                    mask = tf.cast(tf.where(tf.abs(layer_weights)>lim,1,0), tf.float32)\n",
        "                    #assign pruned weights to the layer\n",
        "                    layer_weights.assign(tf.math.multiply(layer_weights,mask))\n",
        "                    #check sparsity\n",
        "                    flat_array = np.array((tf.reshape(mask,[-1])))\n",
        "                    n_zeros += np.count_nonzero(np.array(flat_array) == 0)\n",
        "                    size += flat_array.shape[0]\n",
        "                    sparsity = n_zeros*100/size\n",
        "        else:\n",
        "            bk = [0] * len(model.trainable_weights)\n",
        "\n",
        "        #Quantização\n",
        "        if n_bits > 0:\n",
        "                for i, layer_weights in enumerate(model.trainable_variables):\n",
        "                    if 'bn' in layer_weights.name:\n",
        "                        pass\n",
        "                    else:\n",
        "                        qk_line = (tf.reduce_max(tf.math.abs(layer_weights)) - bk[i]) / (2 ** (n_bits - 1) - 1)\n",
        "                        ck = tf.math.round(layer_weights / qk_line) * qk_line\n",
        "                        layer_weights.assign(ck)\n",
        "      \n",
        "        #bk.clear()\n",
        "        \n",
        "        #Test\n",
        "        acc_val = np.array([])\n",
        "        for step, (x_batch_test, y_batch_test) in enumerate(test_ds):\n",
        "            test_pred = model(x_batch_test, training=False)\n",
        "            test_loss = loss_fn(y_batch_test,test_pred)\n",
        "            test_prediction = tf.argmax(test_pred, axis=1, output_type=tf.int32)\n",
        "            #test_acc = test_accuracy(y_batch_test, test_prediction)\n",
        "                \n",
        "            #acc_val = np.append(acc_val,float(test_acc))\n",
        "\n",
        "            loss_test_batch = np.append(loss_test_batch,test_loss)\n",
        "            test_accuracy.update_state(y_batch_test,test_prediction)\n",
        "\n",
        "        test_acc = test_accuracy.result()\n",
        "        test_accuracy.reset_states()\n",
        "\n",
        "        model_test_acc = np.append(model_test_acc, test_acc*100)\n",
        "        model_test_loss = np.append(model_test_loss,np.mean(loss_test_batch))\n",
        "        \n",
        "        print(\"Epoch {}/{} \\t Loss = {:.3f} \\t Train Acc = {:.3f}% \\t Sparsity = {:.3f}% \\t Test Loss = {:.3f} \\tTest Acc = {:.3f}%\".format(epoch+1,epochs,float(np.mean(loss_batch)),float(acc*100),sparsity, float(np.mean(loss_test_batch)),float(test_acc*100)))\n",
        "\n",
        "        if last_test_acc < test_acc:\n",
        "            print('New test accuracy is {:.3f}%, Model saved'.format(test_acc*100))\n",
        "            last_test_acc = test_acc\n",
        "            model.save(model_name)\n",
        "\n",
        "\n",
        "\n",
        "data = {'train accuracy': model_train_acc, 'test accuracy': model_test_acc, 'sparsity': model_sparsity, 'train loss': model_train_loss, 'test loss': model_test_loss}\n",
        "\n",
        "df = pd.DataFrame(data)\n",
        "\n",
        "df.to_csv('test_0.csv')\n"
      ]
    },
    {
      "cell_type": "code",
      "execution_count": null,
      "metadata": {
        "id": "qH9TwrMnc98a"
      },
      "outputs": [],
      "source": [
        "for (i,layer) in enumerate(model.trainable_weights):\n",
        "        if 'bn' in layer.name or 'bias' in layer.name:\n",
        "            pass\n",
        "        else:\n",
        "            print(layer.name)\n",
        "            a = tf.reshape(layer,[-1])\n",
        "            b = a.numpy()\n",
        "            \n",
        "            plt.axvline(x=-bk[i],color='r')\n",
        "            plt.hist(b,100)\n",
        "            \n",
        "            plt.axvline(x=bk[i],color='r')\n",
        "            plt.text(bk[i], 600, 'bk')\n",
        "            plt.text(-bk[i], 600, '-bk')\n",
        "            #plt.ylim([0,100])\n",
        "            plt.show()"
      ]
    },
    {
      "cell_type": "code",
      "execution_count": 7,
      "metadata": {},
      "outputs": [],
      "source": [
        "import pandas as pd\n",
        "\n",
        "data = {'train accuracy': model_train_acc, 'test accuracy': model_test_acc, 'sparsity': model_sparsity, 'train loss': model_train_loss, 'test loss': model_test_loss}\n",
        "\n",
        "df = pd.DataFrame(data)\n",
        "\n",
        "df.to_csv('test_0.csv')"
      ]
    },
    {
      "cell_type": "code",
      "execution_count": 8,
      "metadata": {
        "id": "5eo_wg9tc98b"
      },
      "outputs": [
        {
          "data": {
            "image/png": "[encoded data removed]",
            "text/plain": [
              "<Figure size 432x288 with 1 Axes>"
            ]
          },
          "metadata": {
            "needs_background": "light"
          },
          "output_type": "display_data"
        }
      ],
      "source": [
        "plt.title(\"test acc x train acc\")\n",
        "plt.plot(model_train_acc)\n",
        "plt.plot(model_test_acc)\n",
        "plt.show()"
      ]
    },
    {
      "cell_type": "code",
      "execution_count": 9,
      "metadata": {
        "id": "RaQc5JNFc98c"
      },
      "outputs": [
        {
          "data": {
            "image/png": "[encoded data removed]",
            "text/plain": [
              "<Figure size 432x288 with 1 Axes>"
            ]
          },
          "metadata": {
            "needs_background": "light"
          },
          "output_type": "display_data"
        }
      ],
      "source": [
        "plt.title(\"train loss x test loss\")\n",
        "plt.plot(model_train_loss)\n",
        "plt.plot(model_test_loss)\n",
        "plt.show()"
      ]
    },
    {
      "cell_type": "code",
      "execution_count": 10,
      "metadata": {
        "id": "ioeGU-jjc98c"
      },
      "outputs": [
        {
          "data": {
            "image/png": "[encoded data removed]",
            "text/plain": [
              "<Figure size 432x288 with 1 Axes>"
            ]
          },
          "metadata": {
            "needs_background": "light"
          },
          "output_type": "display_data"
        }
      ],
      "source": [
        "plt.title(\"Sparsity\")\n",
        "plt.plot(model_sparsity)\n",
        "plt.show()"
      ]
    },
    {
      "cell_type": "code",
      "execution_count": 11,
      "metadata": {},
      "outputs": [
        {
          "name": "stdout",
          "output_type": "stream",
          "text": [
            "WARNING:tensorflow:No training configuration found in the save file, so the model was *not* compiled. Compile it manually.\n"
          ]
        }
      ],
      "source": [
        "model = keras.models.load_model('test_0.h5')"
      ]
    },
    {
      "cell_type": "code",
      "execution_count": 12,
      "metadata": {},
      "outputs": [
        {
          "data": {
            "image/png": "[encoded data removed]",
            "text/plain": [
              "<Figure size 432x288 with 1 Axes>"
            ]
          },
          "metadata": {
            "needs_background": "light"
          },
          "output_type": "display_data"
        },
        {
          "data": {
            "image/png": "[encoded data removed]",
            "text/plain": [
              "<Figure size 432x288 with 1 Axes>"
            ]
          },
          "metadata": {
            "needs_background": "light"
          },
          "output_type": "display_data"
        }
      ],
      "source": [
        "for layer in model.layers:\n",
        "    if layer.name == 'conv4':\n",
        "        a = tf.reshape(layer.weights[0],[-1])\n",
        "        b = a.numpy()\n",
        "        plt.hist(b,200)\n",
        "        plt.show()\n",
        "\n",
        "        plt.hist(b,200)\n",
        "        plt.ylim((0,150))\n",
        "        plt.show()\n",
        "\n",
        "        "
      ]
    },
    {
      "cell_type": "code",
      "execution_count": 13,
      "metadata": {
        "id": "oSh5m9tTc98d"
      },
      "outputs": [],
      "source": [
        "%matplotlib inline\n",
        "from sklearn.metrics import confusion_matrix\n",
        "import itertools\n",
        "import matplotlib.pyplot as plt\n",
        "\n",
        "def plot_confusion_matrix(cm, classes,\n",
        "                        normalize=False,\n",
        "                        title='Confusion matrix',\n",
        "                        cmap=plt.cm.Blues):\n",
        "    \"\"\"\n",
        "    This function prints and plots the confusion matrix.\n",
        "    Normalization can be applied by setting `normalize=True`.\n",
        "    \"\"\"\n",
        "    figure(figsize=(10, 7), dpi=80)\n",
        "    plt.imshow(cm, interpolation='nearest', cmap=cmap)\n",
        "    plt.title(title)\n",
        "    plt.colorbar()\n",
        "    tick_marks = np.arange(10)\n",
        "    plt.xticks(tick_marks, classes, rotation=45)\n",
        "    plt.yticks(tick_marks, classes)\n",
        "\n",
        "    if normalize:\n",
        "        cm = cm.astype('float') / cm.sum(axis=1)[:, np.newaxis]\n",
        "        print(\"Normalized confusion matrix\")\n",
        "    else:\n",
        "        print('Confusion matrix, without normalization')\n",
        "\n",
        "    #print(cm[:,0])\n",
        "\n",
        "    thresh = cm.max() / 2.\n",
        "    for i, j in itertools.product(range(cm.shape[0]), range(cm.shape[1])):\n",
        "        plt.text(j, i, str(cm[i, j]*100/1000) + \"%\",\n",
        "            horizontalalignment=\"center\",\n",
        "            color=\"white\" if cm[i, j] > thresh else \"black\")\n",
        "\n",
        "    plt.tight_layout()\n",
        "    plt.ylabel('Classe real')\n",
        "    plt.xlabel('Classe predita')"
      ]
    },
    {
      "cell_type": "code",
      "execution_count": 14,
      "metadata": {
        "id": "Qwd39wm-c98e"
      },
      "outputs": [
        {
          "name": "stdout",
          "output_type": "stream",
          "text": [
            "Test set accuracy: 86.910%\n"
          ]
        }
      ],
      "source": [
        "with tf.device('/device:CPU:0'):\n",
        "    test_accuracy = tf.keras.metrics.Accuracy()\n",
        "    logits = model(x_test, training=False)\n",
        "    prediction = tf.argmax(logits, axis=1, output_type=tf.int32)\n",
        "    test_accuracy(prediction, y_test)\n",
        "    print(\"Test set accuracy: {:.3%}\".format(test_accuracy.result()))"
      ]
    },
    {
      "cell_type": "code",
      "execution_count": 15,
      "metadata": {
        "id": "BeB7WM_Xc98f"
      },
      "outputs": [
        {
          "name": "stdout",
          "output_type": "stream",
          "text": [
            "Confusion matrix, without normalization\n"
          ]
        },
        {
          "data": {
            "image/png": "[encoded data removed]",
            "text/plain": [
              "<Figure size 800x560 with 2 Axes>"
            ]
          },
          "metadata": {
            "needs_background": "light"
          },
          "output_type": "display_data"
        }
      ],
      "source": [
        "classes = [\"avião\",\"carro\",\"pássaro\",\"gato\",\"veado\",\"cachorro\",\"sapo\",\"cavalo\",\"navio\",\"caminhão\"]\n",
        "cm = confusion_matrix(y_true=y_test, y_pred=prediction)\n",
        "plot_confusion_matrix(cm=cm, classes=classes, title='Matriz de confusão')"
      ]
    },
    {
      "cell_type": "code",
      "execution_count": null,
      "metadata": {
        "id": "SkAsvvxbhb9S"
      },
      "outputs": [],
      "source": []
    }
  ],
  "metadata": {
    "accelerator": "GPU",
    "colab": {
      "collapsed_sections": [],
      "name": "dl_newModel.ipynb",
      "provenance": []
    },
    "kernelspec": {
      "display_name": "Python 3",
      "language": "python",
      "name": "python3"
    },
    "language_info": {
      "codemirror_mode": {
        "name": "ipython",
        "version": 3
      },
      "file_extension": ".py",
      "mimetype": "text/x-python",
      "name": "python",
      "nbconvert_exporter": "python",
      "pygments_lexer": "ipython3",
      "version": "3.7.9"
    }
  },
  "nbformat": 4,
  "nbformat_minor": 0
}
