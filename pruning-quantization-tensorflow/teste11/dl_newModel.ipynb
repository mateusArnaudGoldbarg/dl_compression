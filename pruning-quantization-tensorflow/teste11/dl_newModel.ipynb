{
  "cells": [
    {
      "cell_type": "code",
      "execution_count": 4,
      "metadata": {
        "colab": {
          "base_uri": "https://localhost:8080/"
        },
        "id": "5Q8lqzbTc98R",
        "outputId": "387cebbd-5a80-464f-ebf4-973640f8d559"
      },
      "outputs": [
        {
          "name": "stdout",
          "output_type": "stream",
          "text": [
            "2.7.0\n",
            "1\n",
            "/device:GPU:0\n"
          ]
        }
      ],
      "source": [
        "import tensorflow as tf\n",
        "from tensorflow import keras\n",
        "from tensorflow.keras import layers\n",
        "import numpy as np\n",
        "import matplotlib.pyplot as plt\n",
        "from matplotlib.pyplot import figure\n",
        "import pandas as pd\n",
        "\n",
        "print(tf.__version__)\n",
        "print(len(tf.config.experimental.list_physical_devices('GPU')))\n",
        "device_name = tf.test.gpu_device_name()\n",
        "print(device_name)"
      ]
    },
    {
      "cell_type": "code",
      "execution_count": 5,
      "metadata": {
        "colab": {
          "base_uri": "https://localhost:8080/"
        },
        "id": "v_J7hEAkc98W",
        "outputId": "98ed88aa-bf6f-4a26-8d79-adb6a1e57126"
      },
      "outputs": [],
      "source": [
        "#IMPORTAÇÃO E NORRMALIZAÇÃO\n",
        "(x_train, y_train), (x_test,y_test) = keras.datasets.cifar10.load_data()\n",
        "#x_train = x_train.reshape(-1, 28, 28, 1)\n",
        "#x_test = x_test.reshape(-1, 28, 28, 1)\n",
        "\n",
        "x_train = x_train.astype(float)/255\n",
        "x_test = x_test.astype(float)/255\n",
        "#CRIAR DATASET\n",
        "train_ds = tf.data.Dataset.from_tensor_slices((x_train, y_train)).shuffle(50000).batch(64)\n",
        "test_ds = tf.data.Dataset.from_tensor_slices((x_test, y_test)).batch(64)"
      ]
    },
    {
      "cell_type": "code",
      "execution_count": 6,
      "metadata": {},
      "outputs": [
        {
          "data": {
            "text/plain": [
              "(10000, 32, 32, 3)"
            ]
          },
          "execution_count": 6,
          "metadata": {},
          "output_type": "execute_result"
        }
      ],
      "source": [
        "x_train.shape\n",
        "x_test.shape"
      ]
    },
    {
      "cell_type": "code",
      "execution_count": 7,
      "metadata": {
        "id": "7JY0tvhQc98X"
      },
      "outputs": [],
      "source": [
        "loss_fn = tf.keras.losses.SparseCategoricalCrossentropy(from_logits=False)\n",
        "optimizer = tf.keras.optimizers.SGD(learning_rate=0.1)\n",
        "acc_metric = keras.metrics.SparseCategoricalAccuracy()\n",
        "test_accuracy = tf.keras.metrics.Accuracy()\n",
        "test_loss_fn = tf.keras.losses.SparseCategoricalCrossentropy(from_logits=True)\n",
        "train_accuracy = tf.keras.metrics.Accuracy()"
      ]
    },
    {
      "cell_type": "code",
      "execution_count": 8,
      "metadata": {
        "colab": {
          "base_uri": "https://localhost:8080/"
        },
        "id": "lxIyhmBac98Y",
        "outputId": "e103f353-41b1-4ebc-b0ba-ca88ea457c67"
      },
      "outputs": [
        {
          "name": "stdout",
          "output_type": "stream",
          "text": [
            "Model: \"modelo-0.0\"\n",
            "_________________________________________________________________\n",
            " Layer (type)                Output Shape              Param #   \n",
            "=================================================================\n",
            " conv1 (Conv2D)              (64, 32, 32, 32)          896       \n",
            "                                                                 \n",
            " bn1 (BatchNormalization)    (64, 32, 32, 32)          128       \n",
            "                                                                 \n",
            " conv2 (Conv2D)              (64, 32, 32, 32)          9248      \n",
            "                                                                 \n",
            " bn2 (BatchNormalization)    (64, 32, 32, 32)          128       \n",
            "                                                                 \n",
            " mp1 (MaxPooling2D)          (64, 16, 16, 32)          0         \n",
            "                                                                 \n",
            " dropout (Dropout)           (64, 16, 16, 32)          0         \n",
            "                                                                 \n",
            " conv3 (Conv2D)              (64, 16, 16, 64)          18496     \n",
            "                                                                 \n",
            " bn3 (BatchNormalization)    (64, 16, 16, 64)          256       \n",
            "                                                                 \n",
            " conv4 (Conv2D)              (64, 16, 16, 64)          36928     \n",
            "                                                                 \n",
            " bn4 (BatchNormalization)    (64, 16, 16, 64)          256       \n",
            "                                                                 \n",
            " mp2 (MaxPooling2D)          (64, 8, 8, 64)            0         \n",
            "                                                                 \n",
            " dropout_1 (Dropout)         (64, 8, 8, 64)            0         \n",
            "                                                                 \n",
            " conv5 (Conv2D)              (64, 8, 8, 128)           73856     \n",
            "                                                                 \n",
            " bn5 (BatchNormalization)    (64, 8, 8, 128)           512       \n",
            "                                                                 \n",
            " conv6 (Conv2D)              (64, 8, 8, 128)           147584    \n",
            "                                                                 \n",
            " bn6 (BatchNormalization)    (64, 8, 8, 128)           512       \n",
            "                                                                 \n",
            " mp3 (MaxPooling2D)          (64, 4, 4, 128)           0         \n",
            "                                                                 \n",
            " dropout_2 (Dropout)         (64, 4, 4, 128)           0         \n",
            "                                                                 \n",
            " flatten (Flatten)           (64, 2048)                0         \n",
            "                                                                 \n",
            " dense3 (Dense)              (64, 1024)                2098176   \n",
            "                                                                 \n",
            " bn9 (BatchNormalization)    (64, 1024)                4096      \n",
            "                                                                 \n",
            " dropout_3 (Dropout)         (64, 1024)                0         \n",
            "                                                                 \n",
            " dense4 (Dense)              (64, 10)                  10250     \n",
            "                                                                 \n",
            "=================================================================\n",
            "Total params: 2,401,322\n",
            "Trainable params: 2,398,378\n",
            "Non-trainable params: 2,944\n",
            "_________________________________________________________________\n"
          ]
        }
      ],
      "source": [
        "model = keras.Sequential(\n",
        "    [\n",
        "        keras.layers.InputLayer(input_shape=(32, 32,3),batch_size=64),\n",
        "     \n",
        "        keras.layers.Conv2D(32, (3, 3), name=\"conv1\", activation='relu',padding='same'),\n",
        "        keras.layers.BatchNormalization(name=\"bn1\"),  \n",
        "        keras.layers.Conv2D(32, (3, 3),name=\"conv2\", activation='relu', padding='same'),\n",
        "        keras.layers.BatchNormalization(name=\"bn2\"),\n",
        "        keras.layers.MaxPooling2D(pool_size=(2, 2),name=\"mp1\"),\n",
        "        keras.layers.Dropout(0.2),\n",
        "        keras.layers.Conv2D(64, (3, 3),name=\"conv3\", activation='relu', padding='same'),\n",
        "        keras.layers.BatchNormalization(name=\"bn3\"),\n",
        "        keras.layers.Conv2D(64, (3, 3),name=\"conv4\", activation='relu', padding='same'),\n",
        "        keras.layers.BatchNormalization(name=\"bn4\"),\n",
        "        keras.layers.MaxPooling2D(pool_size=(2, 2),name=\"mp2\"),\n",
        "        keras.layers.Dropout(0.3),\n",
        "        keras.layers.Conv2D(128, (3, 3),name=\"conv5\", activation='relu', padding='same'),\n",
        "        keras.layers.BatchNormalization(name=\"bn5\"),\n",
        "        keras.layers.Conv2D(128, (3, 3),name=\"conv6\", activation='relu', padding='same'),\n",
        "        keras.layers.BatchNormalization(name=\"bn6\"),\n",
        "        keras.layers.MaxPooling2D(pool_size=(2, 2),name=\"mp3\"),\n",
        "        keras.layers.Dropout(0.4),\n",
        "     \n",
        "        keras.layers.Flatten(name = \"flatten\"),\n",
        "        #keras.layers.Dropout(0.2, name=\"dp1\"),\n",
        "        #keras.layers.Dense(512, name=\"dense1\", activation='relu'),\n",
        "        #keras.layers.BatchNormalization(name=\"bn7\"),\n",
        "        #keras.layers.Dropout(0.4),\n",
        "        #keras.layers.Dense(256, name=\"dense2\", activation='relu'),\n",
        "        #keras.layers.BatchNormalization(name=\"bn8\"),\n",
        "        #keras.layers.Dropout(0.2),\n",
        "        keras.layers.Dense(1024, name=\"dense3\", activation='relu'),\n",
        "        keras.layers.BatchNormalization(name=\"bn9\"),\n",
        "        keras.layers.Dropout(0.5),\n",
        "        keras.layers.Dense(10, name=\"dense4\", activation='softmax')\n",
        "    ],\n",
        "    name=\"modelo-0.0\",\n",
        ")\n",
        "\n",
        "for layer in model.trainable_variables:\n",
        "    #print(layer.name)\n",
        "    if 'bias' in layer.name:\n",
        "        new_bias = tf.cast(tf.where(tf.abs(layer) >= 0, 0.1, 0.1), tf.float32)\n",
        "        layer.assign(new_bias)\n",
        "\n",
        "model.summary()"
      ]
    },
    {
      "cell_type": "code",
      "execution_count": 8,
      "metadata": {
        "colab": {
          "base_uri": "https://localhost:8080/"
        },
        "id": "lNxvzk3pc98Z",
        "outputId": "ad823622-926d-4976-b25d-31e6484382d7"
      },
      "outputs": [
        {
          "name": "stdout",
          "output_type": "stream",
          "text": [
            "Created Tensor of velocity\n",
            "Epoch 1/140 \t Loss = 1.666 \t Train Acc = 41.372% \t Sparsity = 56.715% \t Test Loss = 1.321 \tTest Acc = 52.860%\n",
            "New test accuracy is 52.860%, Model saved\n",
            "WARNING:tensorflow:Compiled the loaded model, but the compiled metrics have yet to be built. `model.compile_metrics` will be empty until you train or evaluate the model.\n",
            "Epoch 2/140 \t Loss = 1.294 \t Train Acc = 53.126% \t Sparsity = 59.243% \t Test Loss = 1.132 \tTest Acc = 59.580%\n",
            "New test accuracy is 59.580%, Model saved\n",
            "WARNING:tensorflow:Compiled the loaded model, but the compiled metrics have yet to be built. `model.compile_metrics` will be empty until you train or evaluate the model.\n",
            "Epoch 3/140 \t Loss = 1.160 \t Train Acc = 58.516% \t Sparsity = 60.581% \t Test Loss = 1.017 \tTest Acc = 63.820%\n",
            "New test accuracy is 63.820%, Model saved\n",
            "WARNING:tensorflow:Compiled the loaded model, but the compiled metrics have yet to be built. `model.compile_metrics` will be empty until you train or evaluate the model.\n",
            "Epoch 4/140 \t Loss = 1.073 \t Train Acc = 61.972% \t Sparsity = 61.712% \t Test Loss = 0.954 \tTest Acc = 65.550%\n",
            "New test accuracy is 65.550%, Model saved\n",
            "WARNING:tensorflow:Compiled the loaded model, but the compiled metrics have yet to be built. `model.compile_metrics` will be empty until you train or evaluate the model.\n",
            "Epoch 5/140 \t Loss = 1.003 \t Train Acc = 64.504% \t Sparsity = 62.402% \t Test Loss = 0.858 \tTest Acc = 69.610%\n",
            "New test accuracy is 69.610%, Model saved\n",
            "WARNING:tensorflow:Compiled the loaded model, but the compiled metrics have yet to be built. `model.compile_metrics` will be empty until you train or evaluate the model.\n",
            "Epoch 6/140 \t Loss = 0.970 \t Train Acc = 65.942% \t Sparsity = 62.834% \t Test Loss = 0.852 \tTest Acc = 69.590%\n",
            "Epoch 7/140 \t Loss = 0.930 \t Train Acc = 67.298% \t Sparsity = 63.237% \t Test Loss = 0.818 \tTest Acc = 71.240%\n",
            "New test accuracy is 71.240%, Model saved\n",
            "WARNING:tensorflow:Compiled the loaded model, but the compiled metrics have yet to be built. `model.compile_metrics` will be empty until you train or evaluate the model.\n",
            "Epoch 8/140 \t Loss = 0.900 \t Train Acc = 68.522% \t Sparsity = 63.516% \t Test Loss = 0.855 \tTest Acc = 70.120%\n",
            "Epoch 9/140 \t Loss = 0.884 \t Train Acc = 69.294% \t Sparsity = 63.773% \t Test Loss = 0.792 \tTest Acc = 72.380%\n",
            "New test accuracy is 72.380%, Model saved\n",
            "WARNING:tensorflow:Compiled the loaded model, but the compiled metrics have yet to be built. `model.compile_metrics` will be empty until you train or evaluate the model.\n",
            "Epoch 10/140 \t Loss = 0.865 \t Train Acc = 69.866% \t Sparsity = 63.973% \t Test Loss = 0.842 \tTest Acc = 70.260%\n",
            "Epoch 11/140 \t Loss = 0.857 \t Train Acc = 70.102% \t Sparsity = 64.153% \t Test Loss = 0.863 \tTest Acc = 70.220%\n",
            "Epoch 12/140 \t Loss = 0.844 \t Train Acc = 70.572% \t Sparsity = 64.285% \t Test Loss = 0.901 \tTest Acc = 68.000%\n",
            "Epoch 13/140 \t Loss = 0.832 \t Train Acc = 71.042% \t Sparsity = 64.388% \t Test Loss = 0.894 \tTest Acc = 69.240%\n",
            "Epoch 14/140 \t Loss = 0.826 \t Train Acc = 71.226% \t Sparsity = 64.478% \t Test Loss = 0.776 \tTest Acc = 72.780%\n",
            "New test accuracy is 72.780%, Model saved\n",
            "WARNING:tensorflow:Compiled the loaded model, but the compiled metrics have yet to be built. `model.compile_metrics` will be empty until you train or evaluate the model.\n",
            "Epoch 15/140 \t Loss = 0.820 \t Train Acc = 71.532% \t Sparsity = 64.547% \t Test Loss = 0.744 \tTest Acc = 74.020%\n",
            "New test accuracy is 74.020%, Model saved\n",
            "WARNING:tensorflow:Compiled the loaded model, but the compiled metrics have yet to be built. `model.compile_metrics` will be empty until you train or evaluate the model.\n",
            "Epoch 16/140 \t Loss = 0.813 \t Train Acc = 71.858% \t Sparsity = 64.605% \t Test Loss = 0.847 \tTest Acc = 70.520%\n",
            "Epoch 17/140 \t Loss = 0.810 \t Train Acc = 71.720% \t Sparsity = 64.643% \t Test Loss = 0.813 \tTest Acc = 71.740%\n",
            "Epoch 18/140 \t Loss = 0.807 \t Train Acc = 71.908% \t Sparsity = 64.673% \t Test Loss = 0.732 \tTest Acc = 74.160%\n",
            "New test accuracy is 74.160%, Model saved\n",
            "WARNING:tensorflow:Compiled the loaded model, but the compiled metrics have yet to be built. `model.compile_metrics` will be empty until you train or evaluate the model.\n",
            "Epoch 19/140 \t Loss = 0.801 \t Train Acc = 72.148% \t Sparsity = 64.699% \t Test Loss = 0.741 \tTest Acc = 74.130%\n",
            "Epoch 20/140 \t Loss = 0.800 \t Train Acc = 72.280% \t Sparsity = 64.728% \t Test Loss = 0.834 \tTest Acc = 70.240%\n",
            "Epoch 21/140 \t Loss = 0.799 \t Train Acc = 72.204% \t Sparsity = 64.750% \t Test Loss = 0.794 \tTest Acc = 71.820%\n",
            "Epoch 22/140 \t Loss = 0.794 \t Train Acc = 72.228% \t Sparsity = 64.767% \t Test Loss = 0.750 \tTest Acc = 73.290%\n",
            "Epoch 23/140 \t Loss = 0.795 \t Train Acc = 72.242% \t Sparsity = 64.783% \t Test Loss = 0.806 \tTest Acc = 71.670%\n",
            "Epoch 24/140 \t Loss = 0.798 \t Train Acc = 72.296% \t Sparsity = 64.799% \t Test Loss = 0.715 \tTest Acc = 75.200%\n",
            "New test accuracy is 75.200%, Model saved\n",
            "WARNING:tensorflow:Compiled the loaded model, but the compiled metrics have yet to be built. `model.compile_metrics` will be empty until you train or evaluate the model.\n",
            "Epoch 25/140 \t Loss = 0.793 \t Train Acc = 72.578% \t Sparsity = 64.812% \t Test Loss = 0.724 \tTest Acc = 74.380%\n",
            "Epoch 26/140 \t Loss = 0.792 \t Train Acc = 72.380% \t Sparsity = 64.823% \t Test Loss = 0.728 \tTest Acc = 74.640%\n",
            "Epoch 27/140 \t Loss = 0.790 \t Train Acc = 72.460% \t Sparsity = 64.831% \t Test Loss = 0.714 \tTest Acc = 75.010%\n",
            "Epoch 28/140 \t Loss = 0.783 \t Train Acc = 72.792% \t Sparsity = 64.836% \t Test Loss = 0.750 \tTest Acc = 73.730%\n",
            "Epoch 29/140 \t Loss = 0.786 \t Train Acc = 72.740% \t Sparsity = 64.841% \t Test Loss = 0.717 \tTest Acc = 74.990%\n",
            "Epoch 30/140 \t Loss = 0.783 \t Train Acc = 73.060% \t Sparsity = 64.845% \t Test Loss = 0.840 \tTest Acc = 71.290%\n",
            "Epoch 31/140 \t Loss = 0.789 \t Train Acc = 72.358% \t Sparsity = 64.847% \t Test Loss = 0.711 \tTest Acc = 74.980%\n",
            "Epoch 32/140 \t Loss = 0.787 \t Train Acc = 72.722% \t Sparsity = 64.850% \t Test Loss = 0.722 \tTest Acc = 75.090%\n",
            "Epoch 33/140 \t Loss = 0.788 \t Train Acc = 72.688% \t Sparsity = 64.852% \t Test Loss = 0.780 \tTest Acc = 72.650%\n",
            "Epoch 34/140 \t Loss = 0.786 \t Train Acc = 72.540% \t Sparsity = 64.854% \t Test Loss = 0.709 \tTest Acc = 75.010%\n",
            "Epoch 35/140 \t Loss = 0.785 \t Train Acc = 72.688% \t Sparsity = 64.855% \t Test Loss = 0.816 \tTest Acc = 71.280%\n",
            "Epoch 36/140 \t Loss = 0.786 \t Train Acc = 72.618% \t Sparsity = 64.856% \t Test Loss = 0.756 \tTest Acc = 73.350%\n",
            "Epoch 37/140 \t Loss = 0.786 \t Train Acc = 72.822% \t Sparsity = 64.858% \t Test Loss = 0.695 \tTest Acc = 75.810%\n",
            "New test accuracy is 75.810%, Model saved\n",
            "WARNING:tensorflow:Compiled the loaded model, but the compiled metrics have yet to be built. `model.compile_metrics` will be empty until you train or evaluate the model.\n",
            "Epoch 38/140 \t Loss = 0.786 \t Train Acc = 72.628% \t Sparsity = 64.859% \t Test Loss = 0.740 \tTest Acc = 74.190%\n",
            "Epoch 39/140 \t Loss = 0.785 \t Train Acc = 72.772% \t Sparsity = 64.859% \t Test Loss = 0.733 \tTest Acc = 74.540%\n",
            "Epoch 40/140 \t Loss = 0.786 \t Train Acc = 72.774% \t Sparsity = 64.860% \t Test Loss = 0.751 \tTest Acc = 73.770%\n",
            "Epoch 41/140 \t Loss = 0.792 \t Train Acc = 72.606% \t Sparsity = 64.860% \t Test Loss = 0.730 \tTest Acc = 74.430%\n",
            "Epoch 42/140 \t Loss = 0.790 \t Train Acc = 72.590% \t Sparsity = 64.861% \t Test Loss = 0.727 \tTest Acc = 74.720%\n",
            "Epoch 43/140 \t Loss = 0.790 \t Train Acc = 72.670% \t Sparsity = 64.861% \t Test Loss = 0.715 \tTest Acc = 74.820%\n",
            "Epoch 44/140 \t Loss = 0.790 \t Train Acc = 72.654% \t Sparsity = 64.861% \t Test Loss = 0.714 \tTest Acc = 75.090%\n",
            "Epoch 45/140 \t Loss = 0.780 \t Train Acc = 72.852% \t Sparsity = 64.861% \t Test Loss = 0.708 \tTest Acc = 75.180%\n",
            "Epoch 46/140 \t Loss = 0.782 \t Train Acc = 72.800% \t Sparsity = 64.862% \t Test Loss = 0.757 \tTest Acc = 73.790%\n",
            "Epoch 47/140 \t Loss = 0.782 \t Train Acc = 72.610% \t Sparsity = 64.862% \t Test Loss = 0.699 \tTest Acc = 75.430%\n",
            "Epoch 48/140 \t Loss = 0.784 \t Train Acc = 72.772% \t Sparsity = 64.862% \t Test Loss = 0.693 \tTest Acc = 75.650%\n",
            "Epoch 49/140 \t Loss = 0.782 \t Train Acc = 73.008% \t Sparsity = 64.862% \t Test Loss = 0.713 \tTest Acc = 75.270%\n",
            "Epoch 50/140 \t Loss = 0.790 \t Train Acc = 72.492% \t Sparsity = 64.862% \t Test Loss = 0.695 \tTest Acc = 75.440%\n",
            "Epoch 51/140 \t Loss = 0.781 \t Train Acc = 72.812% \t Sparsity = 64.862% \t Test Loss = 0.711 \tTest Acc = 75.130%\n",
            "Epoch 52/140 \t Loss = 0.781 \t Train Acc = 72.752% \t Sparsity = 64.862% \t Test Loss = 0.695 \tTest Acc = 75.700%\n",
            "Epoch 53/140 \t Loss = 0.783 \t Train Acc = 72.736% \t Sparsity = 64.862% \t Test Loss = 0.708 \tTest Acc = 75.240%\n",
            "Epoch 54/140 \t Loss = 0.785 \t Train Acc = 72.804% \t Sparsity = 64.862% \t Test Loss = 0.727 \tTest Acc = 74.850%\n",
            "Epoch 55/140 \t Loss = 0.788 \t Train Acc = 72.532% \t Sparsity = 64.862% \t Test Loss = 0.699 \tTest Acc = 75.590%\n",
            "Epoch 56/140 \t Loss = 0.781 \t Train Acc = 72.756% \t Sparsity = 64.862% \t Test Loss = 0.714 \tTest Acc = 75.040%\n",
            "Epoch 57/140 \t Loss = 0.784 \t Train Acc = 72.576% \t Sparsity = 64.862% \t Test Loss = 0.692 \tTest Acc = 75.590%\n",
            "Epoch 58/140 \t Loss = 0.789 \t Train Acc = 72.570% \t Sparsity = 64.862% \t Test Loss = 0.702 \tTest Acc = 75.230%\n",
            "Epoch 59/140 \t Loss = 0.781 \t Train Acc = 72.666% \t Sparsity = 64.862% \t Test Loss = 0.698 \tTest Acc = 75.550%\n",
            "Epoch 60/140 \t Loss = 0.791 \t Train Acc = 72.650% \t Sparsity = 64.862% \t Test Loss = 0.725 \tTest Acc = 74.570%\n",
            "Epoch 61/140 \t Loss = 0.782 \t Train Acc = 72.754% \t Sparsity = 64.862% \t Test Loss = 0.694 \tTest Acc = 75.630%\n",
            "Epoch 62/140 \t Loss = 0.777 \t Train Acc = 73.310% \t Sparsity = 64.862% \t Test Loss = 0.699 \tTest Acc = 75.510%\n",
            "Epoch 63/140 \t Loss = 0.779 \t Train Acc = 72.944% \t Sparsity = 64.862% \t Test Loss = 0.718 \tTest Acc = 74.970%\n",
            "Epoch 64/140 \t Loss = 0.784 \t Train Acc = 72.798% \t Sparsity = 64.862% \t Test Loss = 0.710 \tTest Acc = 75.300%\n",
            "Epoch 65/140 \t Loss = 0.781 \t Train Acc = 72.636% \t Sparsity = 64.862% \t Test Loss = 0.711 \tTest Acc = 75.220%\n",
            "Epoch 66/140 \t Loss = 0.782 \t Train Acc = 72.798% \t Sparsity = 64.862% \t Test Loss = 0.706 \tTest Acc = 75.420%\n",
            "Epoch 67/140 \t Loss = 0.785 \t Train Acc = 72.686% \t Sparsity = 64.862% \t Test Loss = 0.692 \tTest Acc = 75.780%\n",
            "Epoch 68/140 \t Loss = 0.782 \t Train Acc = 72.752% \t Sparsity = 64.862% \t Test Loss = 0.704 \tTest Acc = 75.390%\n",
            "Epoch 69/140 \t Loss = 0.784 \t Train Acc = 72.888% \t Sparsity = 64.862% \t Test Loss = 0.718 \tTest Acc = 74.950%\n",
            "Epoch 70/140 \t Loss = 0.790 \t Train Acc = 72.648% \t Sparsity = 64.862% \t Test Loss = 0.693 \tTest Acc = 75.900%\n",
            "New test accuracy is 75.900%, Model saved\n",
            "WARNING:tensorflow:Compiled the loaded model, but the compiled metrics have yet to be built. `model.compile_metrics` will be empty until you train or evaluate the model.\n",
            "Epoch 71/140 \t Loss = 0.788 \t Train Acc = 72.622% \t Sparsity = 64.862% \t Test Loss = 0.734 \tTest Acc = 74.460%\n",
            "Epoch 72/140 \t Loss = 0.784 \t Train Acc = 72.866% \t Sparsity = 64.862% \t Test Loss = 0.713 \tTest Acc = 74.960%\n",
            "Epoch 73/140 \t Loss = 0.786 \t Train Acc = 72.550% \t Sparsity = 64.862% \t Test Loss = 0.697 \tTest Acc = 75.700%\n",
            "Epoch 74/140 \t Loss = 0.785 \t Train Acc = 72.794% \t Sparsity = 64.862% \t Test Loss = 0.719 \tTest Acc = 74.880%\n",
            "Epoch 75/140 \t Loss = 0.789 \t Train Acc = 72.568% \t Sparsity = 64.862% \t Test Loss = 0.693 \tTest Acc = 75.570%\n",
            "Epoch 76/140 \t Loss = 0.779 \t Train Acc = 73.078% \t Sparsity = 64.862% \t Test Loss = 0.710 \tTest Acc = 75.110%\n",
            "Epoch 77/140 \t Loss = 0.781 \t Train Acc = 72.872% \t Sparsity = 64.862% \t Test Loss = 0.701 \tTest Acc = 75.190%\n",
            "Epoch 78/140 \t Loss = 0.783 \t Train Acc = 72.800% \t Sparsity = 64.862% \t Test Loss = 0.704 \tTest Acc = 75.230%\n",
            "Epoch 79/140 \t Loss = 0.784 \t Train Acc = 72.778% \t Sparsity = 64.862% \t Test Loss = 0.705 \tTest Acc = 75.130%\n",
            "Epoch 80/140 \t Loss = 0.788 \t Train Acc = 72.590% \t Sparsity = 64.862% \t Test Loss = 0.701 \tTest Acc = 75.480%\n",
            "Epoch 81/140 \t Loss = 0.778 \t Train Acc = 72.846% \t Sparsity = 64.862% \t Test Loss = 0.717 \tTest Acc = 75.210%\n",
            "Epoch 82/140 \t Loss = 0.783 \t Train Acc = 72.614% \t Sparsity = 64.862% \t Test Loss = 0.717 \tTest Acc = 74.760%\n",
            "Epoch 83/140 \t Loss = 0.782 \t Train Acc = 72.632% \t Sparsity = 64.862% \t Test Loss = 0.701 \tTest Acc = 75.450%\n",
            "Epoch 84/140 \t Loss = 0.787 \t Train Acc = 72.676% \t Sparsity = 64.862% \t Test Loss = 0.703 \tTest Acc = 75.230%\n",
            "Epoch 85/140 \t Loss = 0.780 \t Train Acc = 73.014% \t Sparsity = 64.862% \t Test Loss = 0.732 \tTest Acc = 74.530%\n",
            "Epoch 86/140 \t Loss = 0.788 \t Train Acc = 72.490% \t Sparsity = 64.862% \t Test Loss = 0.693 \tTest Acc = 75.570%\n",
            "Epoch 87/140 \t Loss = 0.787 \t Train Acc = 72.746% \t Sparsity = 64.862% \t Test Loss = 0.710 \tTest Acc = 75.090%\n",
            "Epoch 88/140 \t Loss = 0.782 \t Train Acc = 72.844% \t Sparsity = 64.862% \t Test Loss = 0.712 \tTest Acc = 75.090%\n",
            "Epoch 89/140 \t Loss = 0.781 \t Train Acc = 72.852% \t Sparsity = 64.862% \t Test Loss = 0.695 \tTest Acc = 75.660%\n",
            "Epoch 90/140 \t Loss = 0.787 \t Train Acc = 72.734% \t Sparsity = 64.862% \t Test Loss = 0.717 \tTest Acc = 74.700%\n",
            "Epoch 91/140 \t Loss = 0.783 \t Train Acc = 72.790% \t Sparsity = 64.862% \t Test Loss = 0.704 \tTest Acc = 75.300%\n",
            "Epoch 92/140 \t Loss = 0.784 \t Train Acc = 72.996% \t Sparsity = 64.862% \t Test Loss = 0.698 \tTest Acc = 75.350%\n",
            "Epoch 93/140 \t Loss = 0.783 \t Train Acc = 72.932% \t Sparsity = 64.862% \t Test Loss = 0.704 \tTest Acc = 75.380%\n",
            "Epoch 94/140 \t Loss = 0.786 \t Train Acc = 72.596% \t Sparsity = 64.862% \t Test Loss = 0.729 \tTest Acc = 74.700%\n",
            "Epoch 95/140 \t Loss = 0.783 \t Train Acc = 72.648% \t Sparsity = 64.862% \t Test Loss = 0.700 \tTest Acc = 75.200%\n",
            "Epoch 96/140 \t Loss = 0.782 \t Train Acc = 72.864% \t Sparsity = 64.862% \t Test Loss = 0.699 \tTest Acc = 75.370%\n",
            "Epoch 97/140 \t Loss = 0.780 \t Train Acc = 72.930% \t Sparsity = 64.862% \t Test Loss = 0.693 \tTest Acc = 75.680%\n",
            "Epoch 98/140 \t Loss = 0.782 \t Train Acc = 73.128% \t Sparsity = 64.862% \t Test Loss = 0.706 \tTest Acc = 75.250%\n",
            "Epoch 99/140 \t Loss = 0.789 \t Train Acc = 72.656% \t Sparsity = 64.862% \t Test Loss = 0.689 \tTest Acc = 75.750%\n",
            "Epoch 100/140 \t Loss = 0.784 \t Train Acc = 72.904% \t Sparsity = 64.862% \t Test Loss = 0.706 \tTest Acc = 75.190%\n",
            "Epoch 101/140 \t Loss = 0.785 \t Train Acc = 72.630% \t Sparsity = 64.862% \t Test Loss = 0.731 \tTest Acc = 74.400%\n"
          ]
        }
      ],
      "source": [
        "epochs = 140\n",
        "alpha = 0.75\n",
        "n_bits = 4\n",
        "\n",
        "learning_rate = 0.015\n",
        "momentum = 0.9\n",
        "\n",
        "np.set_printoptions(threshold=np.inf)\n",
        "\n",
        "model_sparsity = np.array([])\n",
        "model_train_loss = np.array([])\n",
        "model_train_acc = np.array([])\n",
        "model_test_loss = np.array([])\n",
        "model_test_acc = np.array([])\n",
        "sparsity = 0\n",
        "\n",
        "last_test_acc = 0\n",
        "model_name = \"test_10.h5\"\n",
        "\n",
        "\n",
        "with tf.device('/device:GPU:0'):\n",
        "    #TODO: Quantizition of gammas and betas of batch_normalization layer\n",
        "    for epoch in range(epochs):\n",
        "        # Iterate over the batches of the dataset.\n",
        "        loss_batch = np.array([])\n",
        "        loss_test_batch = np.array([])\n",
        "        for step, (x_batch_train, y_batch_train) in enumerate(train_ds):\n",
        "            n_zeros = 0\n",
        "            size = 0\n",
        "            #pruning\n",
        "            if alpha > 0:\n",
        "                bk = []\n",
        "                for layer_weights in model.trainable_variables:\n",
        "                    if 'bn' in layer_weights.name:\n",
        "                        bk.append(-1)\n",
        "                    else:\n",
        "                        #flatten weights\n",
        "                        f_weights = tf.reshape(layer_weights,[-1])\n",
        "                        #get standard deviation of each layer\n",
        "                        lim = alpha*tf.math.reduce_std(f_weights)\n",
        "                        bk.append(lim)\n",
        "                        #create a mask\n",
        "                        mask = tf.cast(tf.where(tf.abs(layer_weights)>lim,1,0), tf.float32)\n",
        "                        #assign pruned weights to the layer\n",
        "                        layer_weights.assign(tf.math.multiply(layer_weights,mask))\n",
        "                        #check sparsity\n",
        "                        flat_array = np.array((tf.reshape(mask,[-1])))\n",
        "                        n_zeros += np.count_nonzero(np.array(flat_array) == 0)\n",
        "                        size += flat_array.shape[0]\n",
        "                        sparsity = n_zeros*100/size\n",
        "            else:\n",
        "                bk = [0] * len(model.trainable_weights)\n",
        "\n",
        "            #Cópia do modelo\n",
        "            if n_bits > 0:\n",
        "                model_copy = keras.models.clone_model(model)\n",
        "                model_copy.set_weights(model.get_weights())\n",
        "        \n",
        "            #Quantização\n",
        "            if n_bits > 0:\n",
        "                for i, layer_weights in enumerate(model.trainable_variables):\n",
        "                    if 'bn' in layer_weights.name:\n",
        "                        pass\n",
        "                    else:\n",
        "                        qk_line = (tf.reduce_max(tf.math.abs(layer_weights)) - bk[i]) / (2 ** (n_bits - 1) - 1)\n",
        "                        ck = tf.math.round(layer_weights / qk_line) * qk_line\n",
        "                        layer_weights.assign(ck)\n",
        "\n",
        "            with tf.GradientTape() as tape:\n",
        "                pred = model(x_batch_train, training=True)\n",
        "                loss = loss_fn(y_batch_train, pred)\n",
        "          \n",
        "            grads = tape.gradient(loss, model.trainable_weights)\n",
        "            if step==0 and epoch==0:\n",
        "                print(\"Created Tensor of velocity\")\n",
        "                v = np.zeros_like(grads)\n",
        "            if n_bits > 0:\n",
        "                for i, (layer_weights, copied_weights) in enumerate(zip(model.trainable_variables, model_copy.trainable_variables)):\n",
        "                    #TODO: Add momentum and velocity\n",
        "                    grads[i] = grads[i] * learning_rate\n",
        "                    #Get value of velocity\n",
        "                    v[i] = tf.math.subtract(momentum*v[i], grads[i])\n",
        "                    # WEIGHT UPDATE\n",
        "                    layer_weights.assign(tf.math.add(copied_weights, v[i]))\n",
        "            else:\n",
        "                for i, layer_weights in enumerate(model.trainable_variables):\n",
        "                    \n",
        "                    grads[i] = grads[i] * learning_rate\n",
        "                    v[i] = tf.math.subtract(momentum*v[i], grads[i])\n",
        "                    #WEIGHT UPDATE\n",
        "                    layer_weights.assign(tf.math.add(layer_weights, v[i]))\n",
        "            predictions = tf.argmax(pred, axis=1, output_type=tf.int32)\n",
        "            train_accuracy.update_state(y_batch_train,predictions)\n",
        "\n",
        "            #predictions = tf.argmax(pred, axis=1, output_type=tf.int32)\n",
        "            #acc = train_accuracy(y_batch_train, predictions)\n",
        "\n",
        "        #keep track of loss by batch\n",
        "            loss_batch = np.append(loss_batch, loss)\n",
        "        acc = train_accuracy.result()\n",
        "\n",
        "        #reset states\n",
        "        train_accuracy.reset_states()\n",
        "        #mean of loss by epoch\n",
        "        model_train_loss = np.append(model_train_loss, np.mean(loss_batch))\n",
        "        #train accuracy by epoch\n",
        "        model_train_acc = np.append(model_train_acc, acc*100)\n",
        "        #sparsity by epoch\n",
        "        model_sparsity = np.append(model_sparsity, sparsity)\n",
        "\n",
        "        if alpha > 0:\n",
        "            bk = []\n",
        "            for layer_weights in model.trainable_variables:\n",
        "                if 'bn' in layer_weights.name:\n",
        "                    bk.append(-1)\n",
        "                else:\n",
        "                    #flatten weights\n",
        "                    f_weights = tf.reshape(layer_weights,[-1])\n",
        "                    #get standard deviation of each layer\n",
        "                    lim = alpha*tf.math.reduce_std(f_weights)\n",
        "                    bk.append(lim)\n",
        "                    #create a mask\n",
        "                    mask = tf.cast(tf.where(tf.abs(layer_weights)>lim,1,0), tf.float32)\n",
        "                    #assign pruned weights to the layer\n",
        "                    layer_weights.assign(tf.math.multiply(layer_weights,mask))\n",
        "                    #check sparsity\n",
        "                    flat_array = np.array((tf.reshape(mask,[-1])))\n",
        "                    n_zeros += np.count_nonzero(np.array(flat_array) == 0)\n",
        "                    size += flat_array.shape[0]\n",
        "                    sparsity = n_zeros*100/size\n",
        "        else:\n",
        "            bk = [0] * len(model.trainable_weights)\n",
        "\n",
        "        #Quantização\n",
        "        if n_bits > 0:\n",
        "                for i, layer_weights in enumerate(model.trainable_variables):\n",
        "                    if 'bn' in layer_weights.name:\n",
        "                        pass\n",
        "                    else:\n",
        "                        qk_line = (tf.reduce_max(tf.math.abs(layer_weights)) - bk[i]) / (2 ** (n_bits - 1) - 1)\n",
        "                        ck = tf.math.round(layer_weights / qk_line) * qk_line\n",
        "                        layer_weights.assign(ck)\n",
        "      \n",
        "        #bk.clear()\n",
        "        \n",
        "        #Test\n",
        "        acc_val = np.array([])\n",
        "        for step, (x_batch_test, y_batch_test) in enumerate(test_ds):\n",
        "            test_pred = model(x_batch_test, training=False)\n",
        "            test_loss = loss_fn(y_batch_test,test_pred)\n",
        "            test_prediction = tf.argmax(test_pred, axis=1, output_type=tf.int32)\n",
        "            #test_acc = test_accuracy(y_batch_test, test_prediction)\n",
        "                \n",
        "            #acc_val = np.append(acc_val,float(test_acc))\n",
        "\n",
        "            loss_test_batch = np.append(loss_test_batch,test_loss)\n",
        "            test_accuracy.update_state(y_batch_test,test_prediction)\n",
        "\n",
        "        test_acc = test_accuracy.result()\n",
        "        test_accuracy.reset_states()\n",
        "\n",
        "        model_test_acc = np.append(model_test_acc, test_acc*100)\n",
        "        model_test_loss = np.append(model_test_loss,np.mean(loss_test_batch))\n",
        "        \n",
        "        print(\"Epoch {}/{} \\t Loss = {:.3f} \\t Train Acc = {:.3f}% \\t Sparsity = {:.3f}% \\t Test Loss = {:.3f} \\tTest Acc = {:.3f}%\".format(epoch+1,epochs,float(np.mean(loss_batch)),float(acc*100),sparsity, float(np.mean(loss_test_batch)),float(test_acc*100)))\n",
        "\n",
        "        if last_test_acc < test_acc:\n",
        "            print('New test accuracy is {:.3f}%, Model saved'.format(test_acc*100))\n",
        "            last_test_acc = test_acc\n",
        "            model.save(model_name)\n",
        "\n",
        "\n",
        "\n",
        "data = {'train accuracy': model_train_acc, 'test accuracy': model_test_acc, 'sparsity': model_sparsity, 'train loss': model_train_loss, 'test loss': model_test_loss}\n",
        "\n",
        "df = pd.DataFrame(data)\n",
        "\n",
        "df.to_csv('test_10.csv')"
      ]
    },
    {
      "cell_type": "code",
      "execution_count": 14,
      "metadata": {},
      "outputs": [
        {
          "data": {
            "text/plain": [
              "[]"
            ]
          },
          "execution_count": 14,
          "metadata": {},
          "output_type": "execute_result"
        }
      ],
      "source": [
        "bk"
      ]
    },
    {
      "cell_type": "code",
      "execution_count": 14,
      "metadata": {
        "id": "qH9TwrMnc98a"
      },
      "outputs": [
        {
          "name": "stdout",
          "output_type": "stream",
          "text": [
            "conv1/kernel:0\n"
          ]
        },
        {
          "data": {
            "image/png": "[encoded data removed]",
            "text/plain": [
              "<Figure size 432x288 with 1 Axes>"
            ]
          },
          "metadata": {
            "needs_background": "light"
          },
          "output_type": "display_data"
        },
        {
          "name": "stdout",
          "output_type": "stream",
          "text": [
            "conv2/kernel:0\n"
          ]
        },
        {
          "data": {
            "image/png": "[encoded data removed]",
            "text/plain": [
              "<Figure size 432x288 with 1 Axes>"
            ]
          },
          "metadata": {
            "needs_background": "light"
          },
          "output_type": "display_data"
        },
        {
          "name": "stdout",
          "output_type": "stream",
          "text": [
            "conv3/kernel:0\n"
          ]
        },
        {
          "data": {
            "image/png": "[encoded data removed]",
            "text/plain": [
              "<Figure size 432x288 with 1 Axes>"
            ]
          },
          "metadata": {
            "needs_background": "light"
          },
          "output_type": "display_data"
        },
        {
          "name": "stdout",
          "output_type": "stream",
          "text": [
            "conv4/kernel:0\n"
          ]
        },
        {
          "data": {
            "image/png": "[encoded data removed]",
            "text/plain": [
              "<Figure size 432x288 with 1 Axes>"
            ]
          },
          "metadata": {
            "needs_background": "light"
          },
          "output_type": "display_data"
        },
        {
          "name": "stdout",
          "output_type": "stream",
          "text": [
            "conv5/kernel:0\n"
          ]
        },
        {
          "data": {
            "image/png": "[encoded data removed]",
            "text/plain": [
              "<Figure size 432x288 with 1 Axes>"
            ]
          },
          "metadata": {
            "needs_background": "light"
          },
          "output_type": "display_data"
        },
        {
          "name": "stdout",
          "output_type": "stream",
          "text": [
            "conv6/kernel:0\n"
          ]
        },
        {
          "data": {
            "image/png": "[encoded data removed]",
            "text/plain": [
              "<Figure size 432x288 with 1 Axes>"
            ]
          },
          "metadata": {
            "needs_background": "light"
          },
          "output_type": "display_data"
        },
        {
          "name": "stdout",
          "output_type": "stream",
          "text": [
            "dense3/kernel:0\n"
          ]
        },
        {
          "data": {
            "image/png": "[encoded data removed]",
            "text/plain": [
              "<Figure size 432x288 with 1 Axes>"
            ]
          },
          "metadata": {
            "needs_background": "light"
          },
          "output_type": "display_data"
        },
        {
          "name": "stdout",
          "output_type": "stream",
          "text": [
            "dense4/kernel:0\n"
          ]
        },
        {
          "data": {
            "image/png": "[encoded data removed]",
            "text/plain": [
              "<Figure size 432x288 with 1 Axes>"
            ]
          },
          "metadata": {
            "needs_background": "light"
          },
          "output_type": "display_data"
        }
      ],
      "source": [
        "for (i,layer) in enumerate(model.trainable_weights):\n",
        "        if 'bn' in layer.name or 'bias' in layer.name:\n",
        "            pass\n",
        "        else:\n",
        "            print(layer.name)\n",
        "            a = tf.reshape(layer,[-1])\n",
        "            b = a.numpy()\n",
        "            \n",
        "            #plt.axvline(x=-bk[i],color='r')\n",
        "            plt.hist(b,100)\n",
        "            \n",
        "            #plt.axvline(x=bk[i],color='r')\n",
        "            #plt.text(bk[i], 600, 'bk')\n",
        "            #plt.text(-bk[i], 600, '-bk')\n",
        "            plt.ylim([0,10000])\n",
        "            plt.show()"
      ]
    },
    {
      "cell_type": "code",
      "execution_count": null,
      "metadata": {},
      "outputs": [],
      "source": [
        "import pandas as pd\n",
        "\n",
        "data = {'train accuracy': model_train_acc, 'test accuracy': model_test_acc, 'sparsity': model_sparsity, 'train loss': model_train_loss, 'test loss': model_test_loss}\n",
        "\n",
        "df = pd.DataFrame(data)\n",
        "\n",
        "df.to_csv('test_10.csv')"
      ]
    },
    {
      "cell_type": "code",
      "execution_count": null,
      "metadata": {
        "id": "5eo_wg9tc98b"
      },
      "outputs": [],
      "source": [
        "plt.title(\"test acc x train acc\")\n",
        "plt.plot(model_train_acc)\n",
        "plt.plot(model_test_acc)\n",
        "plt.show()"
      ]
    },
    {
      "cell_type": "code",
      "execution_count": null,
      "metadata": {
        "id": "RaQc5JNFc98c"
      },
      "outputs": [],
      "source": [
        "plt.title(\"train loss x test loss\")\n",
        "plt.plot(model_train_loss)\n",
        "plt.plot(model_test_loss)\n",
        "plt.show()"
      ]
    },
    {
      "cell_type": "code",
      "execution_count": null,
      "metadata": {
        "id": "ioeGU-jjc98c"
      },
      "outputs": [],
      "source": [
        "plt.title(\"Sparsity\")\n",
        "plt.plot(model_sparsity)\n",
        "plt.show()"
      ]
    },
    {
      "cell_type": "code",
      "execution_count": 9,
      "metadata": {},
      "outputs": [
        {
          "name": "stdout",
          "output_type": "stream",
          "text": [
            "WARNING:tensorflow:No training configuration found in the save file, so the model was *not* compiled. Compile it manually.\n"
          ]
        }
      ],
      "source": [
        "model = keras.models.load_model('test_10.h5')"
      ]
    },
    {
      "cell_type": "code",
      "execution_count": 17,
      "metadata": {},
      "outputs": [
        {
          "data": {
            "image/png": "[encoded data removed]",
            "text/plain": [
              "<Figure size 432x288 with 1 Axes>"
            ]
          },
          "metadata": {
            "needs_background": "light"
          },
          "output_type": "display_data"
        },
        {
          "data": {
            "image/png": "[encoded data removed]",
            "text/plain": [
              "<Figure size 432x288 with 1 Axes>"
            ]
          },
          "metadata": {
            "needs_background": "light"
          },
          "output_type": "display_data"
        }
      ],
      "source": [
        "for layer in model.layers:\n",
        "    if layer.name == 'conv4':\n",
        "        a = tf.reshape(layer.weights[0],[-1])\n",
        "        b = a.numpy()\n",
        "        plt.hist(b,200)\n",
        "        plt.show()\n",
        "\n",
        "        plt.hist(b,200)\n",
        "        plt.ylim((0,2000))\n",
        "        plt.show()\n",
        "\n",
        "        "
      ]
    },
    {
      "cell_type": "code",
      "execution_count": 18,
      "metadata": {
        "id": "oSh5m9tTc98d"
      },
      "outputs": [],
      "source": [
        "%matplotlib inline\n",
        "from sklearn.metrics import confusion_matrix\n",
        "import itertools\n",
        "import matplotlib.pyplot as plt\n",
        "\n",
        "def plot_confusion_matrix(cm, classes,\n",
        "                        normalize=False,\n",
        "                        title='Confusion matrix',\n",
        "                        cmap=plt.cm.Blues):\n",
        "    \"\"\"\n",
        "    This function prints and plots the confusion matrix.\n",
        "    Normalization can be applied by setting `normalize=True`.\n",
        "    \"\"\"\n",
        "    figure(figsize=(10, 7), dpi=80)\n",
        "    plt.imshow(cm, interpolation='nearest', cmap=cmap)\n",
        "    plt.title(title)\n",
        "    plt.colorbar()\n",
        "    tick_marks = np.arange(10)\n",
        "    plt.xticks(tick_marks, classes, rotation=45)\n",
        "    plt.yticks(tick_marks, classes)\n",
        "\n",
        "    if normalize:\n",
        "        cm = cm.astype('float') / cm.sum(axis=1)[:, np.newaxis]\n",
        "        print(\"Normalized confusion matrix\")\n",
        "    else:\n",
        "        print('Confusion matrix, without normalization')\n",
        "\n",
        "    #print(cm[:,0])\n",
        "\n",
        "    thresh = cm.max() / 2.\n",
        "    for i, j in itertools.product(range(cm.shape[0]), range(cm.shape[1])):\n",
        "        plt.text(j, i, str(cm[i, j]*100/1000) + \"%\",\n",
        "            horizontalalignment=\"center\",\n",
        "            color=\"white\" if cm[i, j] > thresh else \"black\")\n",
        "\n",
        "    plt.tight_layout()\n",
        "    plt.ylabel('Classe real')\n",
        "    plt.xlabel('Classe predita')"
      ]
    },
    {
      "cell_type": "code",
      "execution_count": 19,
      "metadata": {
        "id": "Qwd39wm-c98e"
      },
      "outputs": [
        {
          "name": "stdout",
          "output_type": "stream",
          "text": [
            "Test set accuracy: 75.900%\n"
          ]
        }
      ],
      "source": [
        "with tf.device('/device:CPU:0'):\n",
        "    test_accuracy = tf.keras.metrics.Accuracy()\n",
        "    logits = model(x_test, training=False)\n",
        "    prediction = tf.argmax(logits, axis=1, output_type=tf.int32)\n",
        "    test_accuracy(prediction, y_test)\n",
        "    print(\"Test set accuracy: {:.3%}\".format(test_accuracy.result()))"
      ]
    },
    {
      "cell_type": "code",
      "execution_count": 20,
      "metadata": {
        "id": "BeB7WM_Xc98f"
      },
      "outputs": [
        {
          "name": "stdout",
          "output_type": "stream",
          "text": [
            "Confusion matrix, without normalization\n"
          ]
        },
        {
          "data": {
            "image/png": "[encoded data removed]",
            "text/plain": [
              "<Figure size 800x560 with 2 Axes>"
            ]
          },
          "metadata": {
            "needs_background": "light"
          },
          "output_type": "display_data"
        }
      ],
      "source": [
        "classes = [\"avião\",\"carro\",\"pássaro\",\"gato\",\"veado\",\"cachorro\",\"sapo\",\"cavalo\",\"navio\",\"caminhão\"]\n",
        "cm = confusion_matrix(y_true=y_test, y_pred=prediction)\n",
        "plot_confusion_matrix(cm=cm, classes=classes, title='Matriz de confusão')"
      ]
    },
    {
      "cell_type": "code",
      "execution_count": null,
      "metadata": {
        "id": "SkAsvvxbhb9S"
      },
      "outputs": [],
      "source": []
    }
  ],
  "metadata": {
    "accelerator": "GPU",
    "colab": {
      "collapsed_sections": [],
      "name": "dl_newModel.ipynb",
      "provenance": []
    },
    "kernelspec": {
      "display_name": "Python 3",
      "language": "python",
      "name": "python3"
    },
    "language_info": {
      "codemirror_mode": {
        "name": "ipython",
        "version": 3
      },
      "file_extension": ".py",
      "mimetype": "text/x-python",
      "name": "python",
      "nbconvert_exporter": "python",
      "pygments_lexer": "ipython3",
      "version": "3.7.9"
    }
  },
  "nbformat": 4,
  "nbformat_minor": 0
}
